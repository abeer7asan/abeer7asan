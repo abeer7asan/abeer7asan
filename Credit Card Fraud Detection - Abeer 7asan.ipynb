{
 "cells": [
  {
   "cell_type": "code",
   "execution_count": 1,
   "id": "ab67b8b2",
   "metadata": {
    "_cell_guid": "b1076dfc-b9ad-4769-8c92-a6c4dae69d19",
    "_uuid": "8f2839f25d086af736a60e9eeb907d3b93b6e0e5",
    "execution": {
     "iopub.execute_input": "2023-08-30T17:04:14.002843Z",
     "iopub.status.busy": "2023-08-30T17:04:14.002420Z",
     "iopub.status.idle": "2023-08-30T17:04:14.023042Z",
     "shell.execute_reply": "2023-08-30T17:04:14.021175Z"
    },
    "papermill": {
     "duration": 0.04767,
     "end_time": "2023-08-30T17:04:14.026216",
     "exception": false,
     "start_time": "2023-08-30T17:04:13.978546",
     "status": "completed"
    },
    "tags": []
   },
   "outputs": [
    {
     "name": "stdout",
     "output_type": "stream",
     "text": [
      "/kaggle/input/creditcardfraud/creditcard.csv\n"
     ]
    }
   ],
   "source": [
    "# This Python 3 environment comes with many helpful analytics libraries installed\n",
    "# It is defined by the kaggle/python Docker image: https://github.com/kaggle/docker-python\n",
    "# For example, here's several helpful packages to load\n",
    "\n",
    "import numpy as np # linear algebra\n",
    "import pandas as pd # data processing, CSV file I/O (e.g. pd.read_csv)\n",
    "\n",
    "# Input data files are available in the read-only \"../input/\" directory\n",
    "# For example, running this (by clicking run or pressing Shift+Enter) will list all files under the input directory\n",
    "\n",
    "import os\n",
    "for dirname, _, filenames in os.walk('/kaggle/input'):\n",
    "    for filename in filenames:\n",
    "        print(os.path.join(dirname, filename))\n",
    "\n",
    "# You can write up to 20GB to the current directory (/kaggle/working/) that gets preserved as output when you create a version using \"Save & Run All\" \n",
    "# You can also write temporary files to /kaggle/temp/, but they won't be saved outside of the current session"
   ]
  },
  {
   "cell_type": "markdown",
   "id": "d6a31c1b",
   "metadata": {
    "papermill": {
     "duration": 0.018759,
     "end_time": "2023-08-30T17:04:14.064172",
     "exception": false,
     "start_time": "2023-08-30T17:04:14.045413",
     "status": "completed"
    },
    "tags": []
   },
   "source": [
    "# Steps\n",
    "\n",
    "0. Data Visualization and statistics \n",
    "\n",
    "1. Data Preprocessing : handling missing values, scaling features, and encoding categorical variables\n",
    "2. Data Splitting: training, and testing sets (x_train and test, y_train and test)\n",
    "3. Feature Selection/Engineering\n",
    "4. Model Selection:  machine learning algorithms for fraud detection\n",
    "> * Neural Networks\n",
    "> * Logistic Regression\n",
    "> * Decision Trees\n",
    "> * Random Forests\n",
    "> * Gradient Boosting (e.g., XGBoost, LightGBM)\n",
    "5. Model Training\n",
    "6. Model Evaluation:accuracy, precision, recall, F1-score, and ROC-AUC. \n",
    "7. Handling Imbalance: oversampling the minority class, undersampling the majority class, Synthetic Minority Over-sampling Technique (SMOTE)\n",
    "8. Hyperparameter Tuning"
   ]
  },
  {
   "cell_type": "code",
   "execution_count": 2,
   "id": "ecacc8dd",
   "metadata": {
    "execution": {
     "iopub.execute_input": "2023-08-30T17:04:14.105437Z",
     "iopub.status.busy": "2023-08-30T17:04:14.104497Z",
     "iopub.status.idle": "2023-08-30T17:04:19.224482Z",
     "shell.execute_reply": "2023-08-30T17:04:19.223325Z"
    },
    "papermill": {
     "duration": 5.143625,
     "end_time": "2023-08-30T17:04:19.227087",
     "exception": false,
     "start_time": "2023-08-30T17:04:14.083462",
     "status": "completed"
    },
    "tags": []
   },
   "outputs": [
    {
     "data": {
      "text/html": [
       "<div>\n",
       "<style scoped>\n",
       "    .dataframe tbody tr th:only-of-type {\n",
       "        vertical-align: middle;\n",
       "    }\n",
       "\n",
       "    .dataframe tbody tr th {\n",
       "        vertical-align: top;\n",
       "    }\n",
       "\n",
       "    .dataframe thead th {\n",
       "        text-align: right;\n",
       "    }\n",
       "</style>\n",
       "<table border=\"1\" class=\"dataframe\">\n",
       "  <thead>\n",
       "    <tr style=\"text-align: right;\">\n",
       "      <th></th>\n",
       "      <th>Time</th>\n",
       "      <th>V1</th>\n",
       "      <th>V2</th>\n",
       "      <th>V3</th>\n",
       "      <th>V4</th>\n",
       "      <th>V5</th>\n",
       "      <th>V6</th>\n",
       "      <th>V7</th>\n",
       "      <th>V8</th>\n",
       "      <th>V9</th>\n",
       "      <th>...</th>\n",
       "      <th>V21</th>\n",
       "      <th>V22</th>\n",
       "      <th>V23</th>\n",
       "      <th>V24</th>\n",
       "      <th>V25</th>\n",
       "      <th>V26</th>\n",
       "      <th>V27</th>\n",
       "      <th>V28</th>\n",
       "      <th>Amount</th>\n",
       "      <th>Class</th>\n",
       "    </tr>\n",
       "  </thead>\n",
       "  <tbody>\n",
       "    <tr>\n",
       "      <th>0</th>\n",
       "      <td>0.0</td>\n",
       "      <td>-1.359807</td>\n",
       "      <td>-0.072781</td>\n",
       "      <td>2.536347</td>\n",
       "      <td>1.378155</td>\n",
       "      <td>-0.338321</td>\n",
       "      <td>0.462388</td>\n",
       "      <td>0.239599</td>\n",
       "      <td>0.098698</td>\n",
       "      <td>0.363787</td>\n",
       "      <td>...</td>\n",
       "      <td>-0.018307</td>\n",
       "      <td>0.277838</td>\n",
       "      <td>-0.110474</td>\n",
       "      <td>0.066928</td>\n",
       "      <td>0.128539</td>\n",
       "      <td>-0.189115</td>\n",
       "      <td>0.133558</td>\n",
       "      <td>-0.021053</td>\n",
       "      <td>149.62</td>\n",
       "      <td>0</td>\n",
       "    </tr>\n",
       "    <tr>\n",
       "      <th>1</th>\n",
       "      <td>0.0</td>\n",
       "      <td>1.191857</td>\n",
       "      <td>0.266151</td>\n",
       "      <td>0.166480</td>\n",
       "      <td>0.448154</td>\n",
       "      <td>0.060018</td>\n",
       "      <td>-0.082361</td>\n",
       "      <td>-0.078803</td>\n",
       "      <td>0.085102</td>\n",
       "      <td>-0.255425</td>\n",
       "      <td>...</td>\n",
       "      <td>-0.225775</td>\n",
       "      <td>-0.638672</td>\n",
       "      <td>0.101288</td>\n",
       "      <td>-0.339846</td>\n",
       "      <td>0.167170</td>\n",
       "      <td>0.125895</td>\n",
       "      <td>-0.008983</td>\n",
       "      <td>0.014724</td>\n",
       "      <td>2.69</td>\n",
       "      <td>0</td>\n",
       "    </tr>\n",
       "    <tr>\n",
       "      <th>2</th>\n",
       "      <td>1.0</td>\n",
       "      <td>-1.358354</td>\n",
       "      <td>-1.340163</td>\n",
       "      <td>1.773209</td>\n",
       "      <td>0.379780</td>\n",
       "      <td>-0.503198</td>\n",
       "      <td>1.800499</td>\n",
       "      <td>0.791461</td>\n",
       "      <td>0.247676</td>\n",
       "      <td>-1.514654</td>\n",
       "      <td>...</td>\n",
       "      <td>0.247998</td>\n",
       "      <td>0.771679</td>\n",
       "      <td>0.909412</td>\n",
       "      <td>-0.689281</td>\n",
       "      <td>-0.327642</td>\n",
       "      <td>-0.139097</td>\n",
       "      <td>-0.055353</td>\n",
       "      <td>-0.059752</td>\n",
       "      <td>378.66</td>\n",
       "      <td>0</td>\n",
       "    </tr>\n",
       "    <tr>\n",
       "      <th>3</th>\n",
       "      <td>1.0</td>\n",
       "      <td>-0.966272</td>\n",
       "      <td>-0.185226</td>\n",
       "      <td>1.792993</td>\n",
       "      <td>-0.863291</td>\n",
       "      <td>-0.010309</td>\n",
       "      <td>1.247203</td>\n",
       "      <td>0.237609</td>\n",
       "      <td>0.377436</td>\n",
       "      <td>-1.387024</td>\n",
       "      <td>...</td>\n",
       "      <td>-0.108300</td>\n",
       "      <td>0.005274</td>\n",
       "      <td>-0.190321</td>\n",
       "      <td>-1.175575</td>\n",
       "      <td>0.647376</td>\n",
       "      <td>-0.221929</td>\n",
       "      <td>0.062723</td>\n",
       "      <td>0.061458</td>\n",
       "      <td>123.50</td>\n",
       "      <td>0</td>\n",
       "    </tr>\n",
       "    <tr>\n",
       "      <th>4</th>\n",
       "      <td>2.0</td>\n",
       "      <td>-1.158233</td>\n",
       "      <td>0.877737</td>\n",
       "      <td>1.548718</td>\n",
       "      <td>0.403034</td>\n",
       "      <td>-0.407193</td>\n",
       "      <td>0.095921</td>\n",
       "      <td>0.592941</td>\n",
       "      <td>-0.270533</td>\n",
       "      <td>0.817739</td>\n",
       "      <td>...</td>\n",
       "      <td>-0.009431</td>\n",
       "      <td>0.798278</td>\n",
       "      <td>-0.137458</td>\n",
       "      <td>0.141267</td>\n",
       "      <td>-0.206010</td>\n",
       "      <td>0.502292</td>\n",
       "      <td>0.219422</td>\n",
       "      <td>0.215153</td>\n",
       "      <td>69.99</td>\n",
       "      <td>0</td>\n",
       "    </tr>\n",
       "  </tbody>\n",
       "</table>\n",
       "<p>5 rows × 31 columns</p>\n",
       "</div>"
      ],
      "text/plain": [
       "   Time        V1        V2        V3        V4        V5        V6        V7  \\\n",
       "0   0.0 -1.359807 -0.072781  2.536347  1.378155 -0.338321  0.462388  0.239599   \n",
       "1   0.0  1.191857  0.266151  0.166480  0.448154  0.060018 -0.082361 -0.078803   \n",
       "2   1.0 -1.358354 -1.340163  1.773209  0.379780 -0.503198  1.800499  0.791461   \n",
       "3   1.0 -0.966272 -0.185226  1.792993 -0.863291 -0.010309  1.247203  0.237609   \n",
       "4   2.0 -1.158233  0.877737  1.548718  0.403034 -0.407193  0.095921  0.592941   \n",
       "\n",
       "         V8        V9  ...       V21       V22       V23       V24       V25  \\\n",
       "0  0.098698  0.363787  ... -0.018307  0.277838 -0.110474  0.066928  0.128539   \n",
       "1  0.085102 -0.255425  ... -0.225775 -0.638672  0.101288 -0.339846  0.167170   \n",
       "2  0.247676 -1.514654  ...  0.247998  0.771679  0.909412 -0.689281 -0.327642   \n",
       "3  0.377436 -1.387024  ... -0.108300  0.005274 -0.190321 -1.175575  0.647376   \n",
       "4 -0.270533  0.817739  ... -0.009431  0.798278 -0.137458  0.141267 -0.206010   \n",
       "\n",
       "        V26       V27       V28  Amount  Class  \n",
       "0 -0.189115  0.133558 -0.021053  149.62      0  \n",
       "1  0.125895 -0.008983  0.014724    2.69      0  \n",
       "2 -0.139097 -0.055353 -0.059752  378.66      0  \n",
       "3 -0.221929  0.062723  0.061458  123.50      0  \n",
       "4  0.502292  0.219422  0.215153   69.99      0  \n",
       "\n",
       "[5 rows x 31 columns]"
      ]
     },
     "execution_count": 2,
     "metadata": {},
     "output_type": "execute_result"
    }
   ],
   "source": [
    "# load dataset to pandas dataframe\n",
    "df = pd.read_csv(\"/kaggle/input/creditcardfraud/creditcard.csv\")\n",
    "# shows the valuse of top rows, which gives more idea on data types. \n",
    "df.head()"
   ]
  },
  {
   "cell_type": "markdown",
   "id": "f578158f",
   "metadata": {
    "papermill": {
     "duration": 0.018968,
     "end_time": "2023-08-30T17:04:19.266720",
     "exception": false,
     "start_time": "2023-08-30T17:04:19.247752",
     "status": "completed"
    },
    "tags": []
   },
   "source": [
    "# **Data Visualization**\n",
    "\n",
    "Doing some basic statistic to visualize the data:\n",
    "Basic Stats\n",
    "\n",
    ">* describe() shows a summary of numerial features.\n",
    ">* value_counts()  generate a summary of categorical features."
   ]
  },
  {
   "cell_type": "code",
   "execution_count": 3,
   "id": "bbf38e2c",
   "metadata": {
    "execution": {
     "iopub.execute_input": "2023-08-30T17:04:19.307457Z",
     "iopub.status.busy": "2023-08-30T17:04:19.306942Z",
     "iopub.status.idle": "2023-08-30T17:04:19.856952Z",
     "shell.execute_reply": "2023-08-30T17:04:19.855819Z"
    },
    "papermill": {
     "duration": 0.573721,
     "end_time": "2023-08-30T17:04:19.859651",
     "exception": false,
     "start_time": "2023-08-30T17:04:19.285930",
     "status": "completed"
    },
    "tags": []
   },
   "outputs": [
    {
     "data": {
      "text/html": [
       "<div>\n",
       "<style scoped>\n",
       "    .dataframe tbody tr th:only-of-type {\n",
       "        vertical-align: middle;\n",
       "    }\n",
       "\n",
       "    .dataframe tbody tr th {\n",
       "        vertical-align: top;\n",
       "    }\n",
       "\n",
       "    .dataframe thead th {\n",
       "        text-align: right;\n",
       "    }\n",
       "</style>\n",
       "<table border=\"1\" class=\"dataframe\">\n",
       "  <thead>\n",
       "    <tr style=\"text-align: right;\">\n",
       "      <th></th>\n",
       "      <th>Time</th>\n",
       "      <th>V1</th>\n",
       "      <th>V2</th>\n",
       "      <th>V3</th>\n",
       "      <th>V4</th>\n",
       "      <th>V5</th>\n",
       "      <th>V6</th>\n",
       "      <th>V7</th>\n",
       "      <th>V8</th>\n",
       "      <th>V9</th>\n",
       "      <th>...</th>\n",
       "      <th>V21</th>\n",
       "      <th>V22</th>\n",
       "      <th>V23</th>\n",
       "      <th>V24</th>\n",
       "      <th>V25</th>\n",
       "      <th>V26</th>\n",
       "      <th>V27</th>\n",
       "      <th>V28</th>\n",
       "      <th>Amount</th>\n",
       "      <th>Class</th>\n",
       "    </tr>\n",
       "  </thead>\n",
       "  <tbody>\n",
       "    <tr>\n",
       "      <th>count</th>\n",
       "      <td>284807.000000</td>\n",
       "      <td>2.848070e+05</td>\n",
       "      <td>2.848070e+05</td>\n",
       "      <td>2.848070e+05</td>\n",
       "      <td>2.848070e+05</td>\n",
       "      <td>2.848070e+05</td>\n",
       "      <td>2.848070e+05</td>\n",
       "      <td>2.848070e+05</td>\n",
       "      <td>2.848070e+05</td>\n",
       "      <td>2.848070e+05</td>\n",
       "      <td>...</td>\n",
       "      <td>2.848070e+05</td>\n",
       "      <td>2.848070e+05</td>\n",
       "      <td>2.848070e+05</td>\n",
       "      <td>2.848070e+05</td>\n",
       "      <td>2.848070e+05</td>\n",
       "      <td>2.848070e+05</td>\n",
       "      <td>2.848070e+05</td>\n",
       "      <td>2.848070e+05</td>\n",
       "      <td>284807.000000</td>\n",
       "      <td>284807.000000</td>\n",
       "    </tr>\n",
       "    <tr>\n",
       "      <th>mean</th>\n",
       "      <td>94813.859575</td>\n",
       "      <td>1.168375e-15</td>\n",
       "      <td>3.416908e-16</td>\n",
       "      <td>-1.379537e-15</td>\n",
       "      <td>2.074095e-15</td>\n",
       "      <td>9.604066e-16</td>\n",
       "      <td>1.487313e-15</td>\n",
       "      <td>-5.556467e-16</td>\n",
       "      <td>1.213481e-16</td>\n",
       "      <td>-2.406331e-15</td>\n",
       "      <td>...</td>\n",
       "      <td>1.654067e-16</td>\n",
       "      <td>-3.568593e-16</td>\n",
       "      <td>2.578648e-16</td>\n",
       "      <td>4.473266e-15</td>\n",
       "      <td>5.340915e-16</td>\n",
       "      <td>1.683437e-15</td>\n",
       "      <td>-3.660091e-16</td>\n",
       "      <td>-1.227390e-16</td>\n",
       "      <td>88.349619</td>\n",
       "      <td>0.001727</td>\n",
       "    </tr>\n",
       "    <tr>\n",
       "      <th>std</th>\n",
       "      <td>47488.145955</td>\n",
       "      <td>1.958696e+00</td>\n",
       "      <td>1.651309e+00</td>\n",
       "      <td>1.516255e+00</td>\n",
       "      <td>1.415869e+00</td>\n",
       "      <td>1.380247e+00</td>\n",
       "      <td>1.332271e+00</td>\n",
       "      <td>1.237094e+00</td>\n",
       "      <td>1.194353e+00</td>\n",
       "      <td>1.098632e+00</td>\n",
       "      <td>...</td>\n",
       "      <td>7.345240e-01</td>\n",
       "      <td>7.257016e-01</td>\n",
       "      <td>6.244603e-01</td>\n",
       "      <td>6.056471e-01</td>\n",
       "      <td>5.212781e-01</td>\n",
       "      <td>4.822270e-01</td>\n",
       "      <td>4.036325e-01</td>\n",
       "      <td>3.300833e-01</td>\n",
       "      <td>250.120109</td>\n",
       "      <td>0.041527</td>\n",
       "    </tr>\n",
       "    <tr>\n",
       "      <th>min</th>\n",
       "      <td>0.000000</td>\n",
       "      <td>-5.640751e+01</td>\n",
       "      <td>-7.271573e+01</td>\n",
       "      <td>-4.832559e+01</td>\n",
       "      <td>-5.683171e+00</td>\n",
       "      <td>-1.137433e+02</td>\n",
       "      <td>-2.616051e+01</td>\n",
       "      <td>-4.355724e+01</td>\n",
       "      <td>-7.321672e+01</td>\n",
       "      <td>-1.343407e+01</td>\n",
       "      <td>...</td>\n",
       "      <td>-3.483038e+01</td>\n",
       "      <td>-1.093314e+01</td>\n",
       "      <td>-4.480774e+01</td>\n",
       "      <td>-2.836627e+00</td>\n",
       "      <td>-1.029540e+01</td>\n",
       "      <td>-2.604551e+00</td>\n",
       "      <td>-2.256568e+01</td>\n",
       "      <td>-1.543008e+01</td>\n",
       "      <td>0.000000</td>\n",
       "      <td>0.000000</td>\n",
       "    </tr>\n",
       "    <tr>\n",
       "      <th>25%</th>\n",
       "      <td>54201.500000</td>\n",
       "      <td>-9.203734e-01</td>\n",
       "      <td>-5.985499e-01</td>\n",
       "      <td>-8.903648e-01</td>\n",
       "      <td>-8.486401e-01</td>\n",
       "      <td>-6.915971e-01</td>\n",
       "      <td>-7.682956e-01</td>\n",
       "      <td>-5.540759e-01</td>\n",
       "      <td>-2.086297e-01</td>\n",
       "      <td>-6.430976e-01</td>\n",
       "      <td>...</td>\n",
       "      <td>-2.283949e-01</td>\n",
       "      <td>-5.423504e-01</td>\n",
       "      <td>-1.618463e-01</td>\n",
       "      <td>-3.545861e-01</td>\n",
       "      <td>-3.171451e-01</td>\n",
       "      <td>-3.269839e-01</td>\n",
       "      <td>-7.083953e-02</td>\n",
       "      <td>-5.295979e-02</td>\n",
       "      <td>5.600000</td>\n",
       "      <td>0.000000</td>\n",
       "    </tr>\n",
       "    <tr>\n",
       "      <th>50%</th>\n",
       "      <td>84692.000000</td>\n",
       "      <td>1.810880e-02</td>\n",
       "      <td>6.548556e-02</td>\n",
       "      <td>1.798463e-01</td>\n",
       "      <td>-1.984653e-02</td>\n",
       "      <td>-5.433583e-02</td>\n",
       "      <td>-2.741871e-01</td>\n",
       "      <td>4.010308e-02</td>\n",
       "      <td>2.235804e-02</td>\n",
       "      <td>-5.142873e-02</td>\n",
       "      <td>...</td>\n",
       "      <td>-2.945017e-02</td>\n",
       "      <td>6.781943e-03</td>\n",
       "      <td>-1.119293e-02</td>\n",
       "      <td>4.097606e-02</td>\n",
       "      <td>1.659350e-02</td>\n",
       "      <td>-5.213911e-02</td>\n",
       "      <td>1.342146e-03</td>\n",
       "      <td>1.124383e-02</td>\n",
       "      <td>22.000000</td>\n",
       "      <td>0.000000</td>\n",
       "    </tr>\n",
       "    <tr>\n",
       "      <th>75%</th>\n",
       "      <td>139320.500000</td>\n",
       "      <td>1.315642e+00</td>\n",
       "      <td>8.037239e-01</td>\n",
       "      <td>1.027196e+00</td>\n",
       "      <td>7.433413e-01</td>\n",
       "      <td>6.119264e-01</td>\n",
       "      <td>3.985649e-01</td>\n",
       "      <td>5.704361e-01</td>\n",
       "      <td>3.273459e-01</td>\n",
       "      <td>5.971390e-01</td>\n",
       "      <td>...</td>\n",
       "      <td>1.863772e-01</td>\n",
       "      <td>5.285536e-01</td>\n",
       "      <td>1.476421e-01</td>\n",
       "      <td>4.395266e-01</td>\n",
       "      <td>3.507156e-01</td>\n",
       "      <td>2.409522e-01</td>\n",
       "      <td>9.104512e-02</td>\n",
       "      <td>7.827995e-02</td>\n",
       "      <td>77.165000</td>\n",
       "      <td>0.000000</td>\n",
       "    </tr>\n",
       "    <tr>\n",
       "      <th>max</th>\n",
       "      <td>172792.000000</td>\n",
       "      <td>2.454930e+00</td>\n",
       "      <td>2.205773e+01</td>\n",
       "      <td>9.382558e+00</td>\n",
       "      <td>1.687534e+01</td>\n",
       "      <td>3.480167e+01</td>\n",
       "      <td>7.330163e+01</td>\n",
       "      <td>1.205895e+02</td>\n",
       "      <td>2.000721e+01</td>\n",
       "      <td>1.559499e+01</td>\n",
       "      <td>...</td>\n",
       "      <td>2.720284e+01</td>\n",
       "      <td>1.050309e+01</td>\n",
       "      <td>2.252841e+01</td>\n",
       "      <td>4.584549e+00</td>\n",
       "      <td>7.519589e+00</td>\n",
       "      <td>3.517346e+00</td>\n",
       "      <td>3.161220e+01</td>\n",
       "      <td>3.384781e+01</td>\n",
       "      <td>25691.160000</td>\n",
       "      <td>1.000000</td>\n",
       "    </tr>\n",
       "  </tbody>\n",
       "</table>\n",
       "<p>8 rows × 31 columns</p>\n",
       "</div>"
      ],
      "text/plain": [
       "                Time            V1            V2            V3            V4  \\\n",
       "count  284807.000000  2.848070e+05  2.848070e+05  2.848070e+05  2.848070e+05   \n",
       "mean    94813.859575  1.168375e-15  3.416908e-16 -1.379537e-15  2.074095e-15   \n",
       "std     47488.145955  1.958696e+00  1.651309e+00  1.516255e+00  1.415869e+00   \n",
       "min         0.000000 -5.640751e+01 -7.271573e+01 -4.832559e+01 -5.683171e+00   \n",
       "25%     54201.500000 -9.203734e-01 -5.985499e-01 -8.903648e-01 -8.486401e-01   \n",
       "50%     84692.000000  1.810880e-02  6.548556e-02  1.798463e-01 -1.984653e-02   \n",
       "75%    139320.500000  1.315642e+00  8.037239e-01  1.027196e+00  7.433413e-01   \n",
       "max    172792.000000  2.454930e+00  2.205773e+01  9.382558e+00  1.687534e+01   \n",
       "\n",
       "                 V5            V6            V7            V8            V9  \\\n",
       "count  2.848070e+05  2.848070e+05  2.848070e+05  2.848070e+05  2.848070e+05   \n",
       "mean   9.604066e-16  1.487313e-15 -5.556467e-16  1.213481e-16 -2.406331e-15   \n",
       "std    1.380247e+00  1.332271e+00  1.237094e+00  1.194353e+00  1.098632e+00   \n",
       "min   -1.137433e+02 -2.616051e+01 -4.355724e+01 -7.321672e+01 -1.343407e+01   \n",
       "25%   -6.915971e-01 -7.682956e-01 -5.540759e-01 -2.086297e-01 -6.430976e-01   \n",
       "50%   -5.433583e-02 -2.741871e-01  4.010308e-02  2.235804e-02 -5.142873e-02   \n",
       "75%    6.119264e-01  3.985649e-01  5.704361e-01  3.273459e-01  5.971390e-01   \n",
       "max    3.480167e+01  7.330163e+01  1.205895e+02  2.000721e+01  1.559499e+01   \n",
       "\n",
       "       ...           V21           V22           V23           V24  \\\n",
       "count  ...  2.848070e+05  2.848070e+05  2.848070e+05  2.848070e+05   \n",
       "mean   ...  1.654067e-16 -3.568593e-16  2.578648e-16  4.473266e-15   \n",
       "std    ...  7.345240e-01  7.257016e-01  6.244603e-01  6.056471e-01   \n",
       "min    ... -3.483038e+01 -1.093314e+01 -4.480774e+01 -2.836627e+00   \n",
       "25%    ... -2.283949e-01 -5.423504e-01 -1.618463e-01 -3.545861e-01   \n",
       "50%    ... -2.945017e-02  6.781943e-03 -1.119293e-02  4.097606e-02   \n",
       "75%    ...  1.863772e-01  5.285536e-01  1.476421e-01  4.395266e-01   \n",
       "max    ...  2.720284e+01  1.050309e+01  2.252841e+01  4.584549e+00   \n",
       "\n",
       "                V25           V26           V27           V28         Amount  \\\n",
       "count  2.848070e+05  2.848070e+05  2.848070e+05  2.848070e+05  284807.000000   \n",
       "mean   5.340915e-16  1.683437e-15 -3.660091e-16 -1.227390e-16      88.349619   \n",
       "std    5.212781e-01  4.822270e-01  4.036325e-01  3.300833e-01     250.120109   \n",
       "min   -1.029540e+01 -2.604551e+00 -2.256568e+01 -1.543008e+01       0.000000   \n",
       "25%   -3.171451e-01 -3.269839e-01 -7.083953e-02 -5.295979e-02       5.600000   \n",
       "50%    1.659350e-02 -5.213911e-02  1.342146e-03  1.124383e-02      22.000000   \n",
       "75%    3.507156e-01  2.409522e-01  9.104512e-02  7.827995e-02      77.165000   \n",
       "max    7.519589e+00  3.517346e+00  3.161220e+01  3.384781e+01   25691.160000   \n",
       "\n",
       "               Class  \n",
       "count  284807.000000  \n",
       "mean        0.001727  \n",
       "std         0.041527  \n",
       "min         0.000000  \n",
       "25%         0.000000  \n",
       "50%         0.000000  \n",
       "75%         0.000000  \n",
       "max         1.000000  \n",
       "\n",
       "[8 rows x 31 columns]"
      ]
     },
     "execution_count": 3,
     "metadata": {},
     "output_type": "execute_result"
    }
   ],
   "source": [
    "df.describe()"
   ]
  },
  {
   "cell_type": "code",
   "execution_count": 4,
   "id": "df74634b",
   "metadata": {
    "execution": {
     "iopub.execute_input": "2023-08-30T17:04:19.901262Z",
     "iopub.status.busy": "2023-08-30T17:04:19.900789Z",
     "iopub.status.idle": "2023-08-30T17:04:29.000749Z",
     "shell.execute_reply": "2023-08-30T17:04:28.999426Z"
    },
    "papermill": {
     "duration": 9.125562,
     "end_time": "2023-08-30T17:04:29.005050",
     "exception": false,
     "start_time": "2023-08-30T17:04:19.879488",
     "status": "completed"
    },
    "tags": []
   },
   "outputs": [
    {
     "data": {
      "text/plain": [
       "array([[<Axes: title={'center': 'Time'}>, <Axes: title={'center': 'V1'}>,\n",
       "        <Axes: title={'center': 'V2'}>, <Axes: title={'center': 'V3'}>,\n",
       "        <Axes: title={'center': 'V4'}>, <Axes: title={'center': 'V5'}>],\n",
       "       [<Axes: title={'center': 'V6'}>, <Axes: title={'center': 'V7'}>,\n",
       "        <Axes: title={'center': 'V8'}>, <Axes: title={'center': 'V9'}>,\n",
       "        <Axes: title={'center': 'V10'}>, <Axes: title={'center': 'V11'}>],\n",
       "       [<Axes: title={'center': 'V12'}>, <Axes: title={'center': 'V13'}>,\n",
       "        <Axes: title={'center': 'V14'}>, <Axes: title={'center': 'V15'}>,\n",
       "        <Axes: title={'center': 'V16'}>, <Axes: title={'center': 'V17'}>],\n",
       "       [<Axes: title={'center': 'V18'}>, <Axes: title={'center': 'V19'}>,\n",
       "        <Axes: title={'center': 'V20'}>, <Axes: title={'center': 'V21'}>,\n",
       "        <Axes: title={'center': 'V22'}>, <Axes: title={'center': 'V23'}>],\n",
       "       [<Axes: title={'center': 'V24'}>, <Axes: title={'center': 'V25'}>,\n",
       "        <Axes: title={'center': 'V26'}>, <Axes: title={'center': 'V27'}>,\n",
       "        <Axes: title={'center': 'V28'}>,\n",
       "        <Axes: title={'center': 'Amount'}>],\n",
       "       [<Axes: title={'center': 'Class'}>, <Axes: >, <Axes: >, <Axes: >,\n",
       "        <Axes: >, <Axes: >]], dtype=object)"
      ]
     },
     "execution_count": 4,
     "metadata": {},
     "output_type": "execute_result"
    },
    {
     "data": {
      "image/png": "[encoded data removed]",
      "text/plain": [
       "<Figure size 1500x1500 with 36 Axes>"
      ]
     },
     "metadata": {},
     "output_type": "display_data"
    }
   ],
   "source": [
    "# histogram\n",
    "df.hist(bins=50, figsize=(15, 15))"
   ]
  },
  {
   "cell_type": "code",
   "execution_count": 5,
   "id": "e0e0d54a",
   "metadata": {
    "execution": {
     "iopub.execute_input": "2023-08-30T17:04:29.055419Z",
     "iopub.status.busy": "2023-08-30T17:04:29.054957Z",
     "iopub.status.idle": "2023-08-30T17:04:29.096623Z",
     "shell.execute_reply": "2023-08-30T17:04:29.095114Z"
    },
    "papermill": {
     "duration": 0.069252,
     "end_time": "2023-08-30T17:04:29.099597",
     "exception": false,
     "start_time": "2023-08-30T17:04:29.030345",
     "status": "completed"
    },
    "tags": []
   },
   "outputs": [
    {
     "name": "stdout",
     "output_type": "stream",
     "text": [
      "<class 'pandas.core.frame.DataFrame'>\n",
      "RangeIndex: 284807 entries, 0 to 284806\n",
      "Data columns (total 31 columns):\n",
      " #   Column  Non-Null Count   Dtype  \n",
      "---  ------  --------------   -----  \n",
      " 0   Time    284807 non-null  float64\n",
      " 1   V1      284807 non-null  float64\n",
      " 2   V2      284807 non-null  float64\n",
      " 3   V3      284807 non-null  float64\n",
      " 4   V4      284807 non-null  float64\n",
      " 5   V5      284807 non-null  float64\n",
      " 6   V6      284807 non-null  float64\n",
      " 7   V7      284807 non-null  float64\n",
      " 8   V8      284807 non-null  float64\n",
      " 9   V9      284807 non-null  float64\n",
      " 10  V10     284807 non-null  float64\n",
      " 11  V11     284807 non-null  float64\n",
      " 12  V12     284807 non-null  float64\n",
      " 13  V13     284807 non-null  float64\n",
      " 14  V14     284807 non-null  float64\n",
      " 15  V15     284807 non-null  float64\n",
      " 16  V16     284807 non-null  float64\n",
      " 17  V17     284807 non-null  float64\n",
      " 18  V18     284807 non-null  float64\n",
      " 19  V19     284807 non-null  float64\n",
      " 20  V20     284807 non-null  float64\n",
      " 21  V21     284807 non-null  float64\n",
      " 22  V22     284807 non-null  float64\n",
      " 23  V23     284807 non-null  float64\n",
      " 24  V24     284807 non-null  float64\n",
      " 25  V25     284807 non-null  float64\n",
      " 26  V26     284807 non-null  float64\n",
      " 27  V27     284807 non-null  float64\n",
      " 28  V28     284807 non-null  float64\n",
      " 29  Amount  284807 non-null  float64\n",
      " 30  Class   284807 non-null  int64  \n",
      "dtypes: float64(30), int64(1)\n",
      "memory usage: 67.4 MB\n"
     ]
    }
   ],
   "source": [
    "# exploring the dataset\n",
    "df.info()"
   ]
  },
  {
   "cell_type": "code",
   "execution_count": 6,
   "id": "c982a387",
   "metadata": {
    "execution": {
     "iopub.execute_input": "2023-08-30T17:04:29.147410Z",
     "iopub.status.busy": "2023-08-30T17:04:29.146895Z",
     "iopub.status.idle": "2023-08-30T17:04:29.171338Z",
     "shell.execute_reply": "2023-08-30T17:04:29.170066Z"
    },
    "papermill": {
     "duration": 0.051511,
     "end_time": "2023-08-30T17:04:29.174085",
     "exception": false,
     "start_time": "2023-08-30T17:04:29.122574",
     "status": "completed"
    },
    "tags": []
   },
   "outputs": [
    {
     "data": {
      "text/plain": [
       "Time      0\n",
       "V1        0\n",
       "V2        0\n",
       "V3        0\n",
       "V4        0\n",
       "V5        0\n",
       "V6        0\n",
       "V7        0\n",
       "V8        0\n",
       "V9        0\n",
       "V10       0\n",
       "V11       0\n",
       "V12       0\n",
       "V13       0\n",
       "V14       0\n",
       "V15       0\n",
       "V16       0\n",
       "V17       0\n",
       "V18       0\n",
       "V19       0\n",
       "V20       0\n",
       "V21       0\n",
       "V22       0\n",
       "V23       0\n",
       "V24       0\n",
       "V25       0\n",
       "V26       0\n",
       "V27       0\n",
       "V28       0\n",
       "Amount    0\n",
       "Class     0\n",
       "dtype: int64"
      ]
     },
     "execution_count": 6,
     "metadata": {},
     "output_type": "execute_result"
    }
   ],
   "source": [
    "# count null values in each attribute (column)\n",
    "df.isnull().sum()\n",
    "# no null values in the date \n",
    "# in case there is any null values we can treate it by filling it with the mean value as below \n",
    "# df.fillna(df.mean(), inplace=True)"
   ]
  },
  {
   "cell_type": "markdown",
   "id": "e2c20200",
   "metadata": {
    "papermill": {
     "duration": 0.02278,
     "end_time": "2023-08-30T17:04:29.220720",
     "exception": false,
     "start_time": "2023-08-30T17:04:29.197940",
     "status": "completed"
    },
    "tags": []
   },
   "source": [
    "The target is the calss, so lets do some statistcs on it"
   ]
  },
  {
   "cell_type": "code",
   "execution_count": 7,
   "id": "627da0a6",
   "metadata": {
    "execution": {
     "iopub.execute_input": "2023-08-30T17:04:29.268531Z",
     "iopub.status.busy": "2023-08-30T17:04:29.268084Z",
     "iopub.status.idle": "2023-08-30T17:04:29.280247Z",
     "shell.execute_reply": "2023-08-30T17:04:29.279230Z"
    },
    "papermill": {
     "duration": 0.038977,
     "end_time": "2023-08-30T17:04:29.282834",
     "exception": false,
     "start_time": "2023-08-30T17:04:29.243857",
     "status": "completed"
    },
    "tags": []
   },
   "outputs": [
    {
     "data": {
      "text/plain": [
       "0    284315\n",
       "1       492\n",
       "Name: Class, dtype: int64"
      ]
     },
     "execution_count": 7,
     "metadata": {},
     "output_type": "execute_result"
    }
   ],
   "source": [
    "df['Class'].value_counts()\n"
   ]
  },
  {
   "cell_type": "code",
   "execution_count": 8,
   "id": "8054118d",
   "metadata": {
    "execution": {
     "iopub.execute_input": "2023-08-30T17:04:29.330909Z",
     "iopub.status.busy": "2023-08-30T17:04:29.330433Z",
     "iopub.status.idle": "2023-08-30T17:04:29.337041Z",
     "shell.execute_reply": "2023-08-30T17:04:29.335807Z"
    },
    "papermill": {
     "duration": 0.034196,
     "end_time": "2023-08-30T17:04:29.340289",
     "exception": false,
     "start_time": "2023-08-30T17:04:29.306093",
     "status": "completed"
    },
    "tags": []
   },
   "outputs": [
    {
     "name": "stdout",
     "output_type": "stream",
     "text": [
      "The % of fraud to normal transaction is:0.0017304750013189597\n",
      "data is unbalanced\n"
     ]
    }
   ],
   "source": [
    "prc = 492 / 284315\n",
    "print('The % of fraud to normal transaction is:'+ str(prc))\n",
    "print('data is unbalanced')"
   ]
  },
  {
   "cell_type": "markdown",
   "id": "612d8f10",
   "metadata": {
    "papermill": {
     "duration": 0.023366,
     "end_time": "2023-08-30T17:04:29.386515",
     "exception": false,
     "start_time": "2023-08-30T17:04:29.363149",
     "status": "completed"
    },
    "tags": []
   },
   "source": [
    "#  Splitting Data x_train, y_train / x_test, y_test\n",
    "\n",
    "1. split the features from the target into two data sets x: for features, y: for target\n",
    "2. split the data sets into training data set to train the model and test data set to test the model "
   ]
  },
  {
   "cell_type": "code",
   "execution_count": 9,
   "id": "ff26c25a",
   "metadata": {
    "execution": {
     "iopub.execute_input": "2023-08-30T17:04:29.437174Z",
     "iopub.status.busy": "2023-08-30T17:04:29.436675Z",
     "iopub.status.idle": "2023-08-30T17:04:29.471572Z",
     "shell.execute_reply": "2023-08-30T17:04:29.470295Z"
    },
    "papermill": {
     "duration": 0.062986,
     "end_time": "2023-08-30T17:04:29.474451",
     "exception": false,
     "start_time": "2023-08-30T17:04:29.411465",
     "status": "completed"
    },
    "tags": []
   },
   "outputs": [
    {
     "data": {
      "text/plain": [
       "0    0\n",
       "1    0\n",
       "2    0\n",
       "3    0\n",
       "4    0\n",
       "Name: Class, dtype: int64"
      ]
     },
     "execution_count": 9,
     "metadata": {},
     "output_type": "execute_result"
    }
   ],
   "source": [
    "y = df['Class']\n",
    "x = df.drop(['Class'], axis = 1)\n",
    "y.head()\n"
   ]
  },
  {
   "cell_type": "code",
   "execution_count": 10,
   "id": "94c2a774",
   "metadata": {
    "execution": {
     "iopub.execute_input": "2023-08-30T17:04:29.525776Z",
     "iopub.status.busy": "2023-08-30T17:04:29.525201Z",
     "iopub.status.idle": "2023-08-30T17:04:29.557172Z",
     "shell.execute_reply": "2023-08-30T17:04:29.556134Z"
    },
    "papermill": {
     "duration": 0.062785,
     "end_time": "2023-08-30T17:04:29.560906",
     "exception": false,
     "start_time": "2023-08-30T17:04:29.498121",
     "status": "completed"
    },
    "tags": []
   },
   "outputs": [
    {
     "data": {
      "text/html": [
       "<div>\n",
       "<style scoped>\n",
       "    .dataframe tbody tr th:only-of-type {\n",
       "        vertical-align: middle;\n",
       "    }\n",
       "\n",
       "    .dataframe tbody tr th {\n",
       "        vertical-align: top;\n",
       "    }\n",
       "\n",
       "    .dataframe thead th {\n",
       "        text-align: right;\n",
       "    }\n",
       "</style>\n",
       "<table border=\"1\" class=\"dataframe\">\n",
       "  <thead>\n",
       "    <tr style=\"text-align: right;\">\n",
       "      <th></th>\n",
       "      <th>Time</th>\n",
       "      <th>V1</th>\n",
       "      <th>V2</th>\n",
       "      <th>V3</th>\n",
       "      <th>V4</th>\n",
       "      <th>V5</th>\n",
       "      <th>V6</th>\n",
       "      <th>V7</th>\n",
       "      <th>V8</th>\n",
       "      <th>V9</th>\n",
       "      <th>...</th>\n",
       "      <th>V20</th>\n",
       "      <th>V21</th>\n",
       "      <th>V22</th>\n",
       "      <th>V23</th>\n",
       "      <th>V24</th>\n",
       "      <th>V25</th>\n",
       "      <th>V26</th>\n",
       "      <th>V27</th>\n",
       "      <th>V28</th>\n",
       "      <th>Amount</th>\n",
       "    </tr>\n",
       "  </thead>\n",
       "  <tbody>\n",
       "    <tr>\n",
       "      <th>0</th>\n",
       "      <td>0.0</td>\n",
       "      <td>-1.359807</td>\n",
       "      <td>-0.072781</td>\n",
       "      <td>2.536347</td>\n",
       "      <td>1.378155</td>\n",
       "      <td>-0.338321</td>\n",
       "      <td>0.462388</td>\n",
       "      <td>0.239599</td>\n",
       "      <td>0.098698</td>\n",
       "      <td>0.363787</td>\n",
       "      <td>...</td>\n",
       "      <td>0.251412</td>\n",
       "      <td>-0.018307</td>\n",
       "      <td>0.277838</td>\n",
       "      <td>-0.110474</td>\n",
       "      <td>0.066928</td>\n",
       "      <td>0.128539</td>\n",
       "      <td>-0.189115</td>\n",
       "      <td>0.133558</td>\n",
       "      <td>-0.021053</td>\n",
       "      <td>149.62</td>\n",
       "    </tr>\n",
       "    <tr>\n",
       "      <th>1</th>\n",
       "      <td>0.0</td>\n",
       "      <td>1.191857</td>\n",
       "      <td>0.266151</td>\n",
       "      <td>0.166480</td>\n",
       "      <td>0.448154</td>\n",
       "      <td>0.060018</td>\n",
       "      <td>-0.082361</td>\n",
       "      <td>-0.078803</td>\n",
       "      <td>0.085102</td>\n",
       "      <td>-0.255425</td>\n",
       "      <td>...</td>\n",
       "      <td>-0.069083</td>\n",
       "      <td>-0.225775</td>\n",
       "      <td>-0.638672</td>\n",
       "      <td>0.101288</td>\n",
       "      <td>-0.339846</td>\n",
       "      <td>0.167170</td>\n",
       "      <td>0.125895</td>\n",
       "      <td>-0.008983</td>\n",
       "      <td>0.014724</td>\n",
       "      <td>2.69</td>\n",
       "    </tr>\n",
       "    <tr>\n",
       "      <th>2</th>\n",
       "      <td>1.0</td>\n",
       "      <td>-1.358354</td>\n",
       "      <td>-1.340163</td>\n",
       "      <td>1.773209</td>\n",
       "      <td>0.379780</td>\n",
       "      <td>-0.503198</td>\n",
       "      <td>1.800499</td>\n",
       "      <td>0.791461</td>\n",
       "      <td>0.247676</td>\n",
       "      <td>-1.514654</td>\n",
       "      <td>...</td>\n",
       "      <td>0.524980</td>\n",
       "      <td>0.247998</td>\n",
       "      <td>0.771679</td>\n",
       "      <td>0.909412</td>\n",
       "      <td>-0.689281</td>\n",
       "      <td>-0.327642</td>\n",
       "      <td>-0.139097</td>\n",
       "      <td>-0.055353</td>\n",
       "      <td>-0.059752</td>\n",
       "      <td>378.66</td>\n",
       "    </tr>\n",
       "    <tr>\n",
       "      <th>3</th>\n",
       "      <td>1.0</td>\n",
       "      <td>-0.966272</td>\n",
       "      <td>-0.185226</td>\n",
       "      <td>1.792993</td>\n",
       "      <td>-0.863291</td>\n",
       "      <td>-0.010309</td>\n",
       "      <td>1.247203</td>\n",
       "      <td>0.237609</td>\n",
       "      <td>0.377436</td>\n",
       "      <td>-1.387024</td>\n",
       "      <td>...</td>\n",
       "      <td>-0.208038</td>\n",
       "      <td>-0.108300</td>\n",
       "      <td>0.005274</td>\n",
       "      <td>-0.190321</td>\n",
       "      <td>-1.175575</td>\n",
       "      <td>0.647376</td>\n",
       "      <td>-0.221929</td>\n",
       "      <td>0.062723</td>\n",
       "      <td>0.061458</td>\n",
       "      <td>123.50</td>\n",
       "    </tr>\n",
       "    <tr>\n",
       "      <th>4</th>\n",
       "      <td>2.0</td>\n",
       "      <td>-1.158233</td>\n",
       "      <td>0.877737</td>\n",
       "      <td>1.548718</td>\n",
       "      <td>0.403034</td>\n",
       "      <td>-0.407193</td>\n",
       "      <td>0.095921</td>\n",
       "      <td>0.592941</td>\n",
       "      <td>-0.270533</td>\n",
       "      <td>0.817739</td>\n",
       "      <td>...</td>\n",
       "      <td>0.408542</td>\n",
       "      <td>-0.009431</td>\n",
       "      <td>0.798278</td>\n",
       "      <td>-0.137458</td>\n",
       "      <td>0.141267</td>\n",
       "      <td>-0.206010</td>\n",
       "      <td>0.502292</td>\n",
       "      <td>0.219422</td>\n",
       "      <td>0.215153</td>\n",
       "      <td>69.99</td>\n",
       "    </tr>\n",
       "  </tbody>\n",
       "</table>\n",
       "<p>5 rows × 30 columns</p>\n",
       "</div>"
      ],
      "text/plain": [
       "   Time        V1        V2        V3        V4        V5        V6        V7  \\\n",
       "0   0.0 -1.359807 -0.072781  2.536347  1.378155 -0.338321  0.462388  0.239599   \n",
       "1   0.0  1.191857  0.266151  0.166480  0.448154  0.060018 -0.082361 -0.078803   \n",
       "2   1.0 -1.358354 -1.340163  1.773209  0.379780 -0.503198  1.800499  0.791461   \n",
       "3   1.0 -0.966272 -0.185226  1.792993 -0.863291 -0.010309  1.247203  0.237609   \n",
       "4   2.0 -1.158233  0.877737  1.548718  0.403034 -0.407193  0.095921  0.592941   \n",
       "\n",
       "         V8        V9  ...       V20       V21       V22       V23       V24  \\\n",
       "0  0.098698  0.363787  ...  0.251412 -0.018307  0.277838 -0.110474  0.066928   \n",
       "1  0.085102 -0.255425  ... -0.069083 -0.225775 -0.638672  0.101288 -0.339846   \n",
       "2  0.247676 -1.514654  ...  0.524980  0.247998  0.771679  0.909412 -0.689281   \n",
       "3  0.377436 -1.387024  ... -0.208038 -0.108300  0.005274 -0.190321 -1.175575   \n",
       "4 -0.270533  0.817739  ...  0.408542 -0.009431  0.798278 -0.137458  0.141267   \n",
       "\n",
       "        V25       V26       V27       V28  Amount  \n",
       "0  0.128539 -0.189115  0.133558 -0.021053  149.62  \n",
       "1  0.167170  0.125895 -0.008983  0.014724    2.69  \n",
       "2 -0.327642 -0.139097 -0.055353 -0.059752  378.66  \n",
       "3  0.647376 -0.221929  0.062723  0.061458  123.50  \n",
       "4 -0.206010  0.502292  0.219422  0.215153   69.99  \n",
       "\n",
       "[5 rows x 30 columns]"
      ]
     },
     "execution_count": 10,
     "metadata": {},
     "output_type": "execute_result"
    }
   ],
   "source": [
    "x.head()"
   ]
  },
  {
   "cell_type": "markdown",
   "id": "956dff4b",
   "metadata": {
    "papermill": {
     "duration": 0.024988,
     "end_time": "2023-08-30T17:04:29.615489",
     "exception": false,
     "start_time": "2023-08-30T17:04:29.590501",
     "status": "completed"
    },
    "tags": []
   },
   "source": [
    "# Feature Selection\n",
    "\n",
    "**Correlation Analysis**: in this we will study the correlation between each feature with the target"
   ]
  },
  {
   "cell_type": "code",
   "execution_count": 11,
   "id": "6aa58800",
   "metadata": {
    "execution": {
     "iopub.execute_input": "2023-08-30T17:04:29.665571Z",
     "iopub.status.busy": "2023-08-30T17:04:29.665099Z",
     "iopub.status.idle": "2023-08-30T17:04:29.669819Z",
     "shell.execute_reply": "2023-08-30T17:04:29.668904Z"
    },
    "papermill": {
     "duration": 0.032277,
     "end_time": "2023-08-30T17:04:29.672284",
     "exception": false,
     "start_time": "2023-08-30T17:04:29.640007",
     "status": "completed"
    },
    "tags": []
   },
   "outputs": [],
   "source": [
    "# from pandas.plotting import scatter_matrix\n",
    "# attributes = ['Time', 'V1', 'V2', 'V3','V4', 'V5', 'Amount','Class']\n",
    "# scatter_matrix(df[attributes], figsize=(12,12)) "
   ]
  },
  {
   "cell_type": "code",
   "execution_count": 12,
   "id": "687c09f6",
   "metadata": {
    "execution": {
     "iopub.execute_input": "2023-08-30T17:04:29.723043Z",
     "iopub.status.busy": "2023-08-30T17:04:29.722353Z",
     "iopub.status.idle": "2023-08-30T17:04:31.189211Z",
     "shell.execute_reply": "2023-08-30T17:04:31.187700Z"
    },
    "papermill": {
     "duration": 1.497953,
     "end_time": "2023-08-30T17:04:31.194507",
     "exception": false,
     "start_time": "2023-08-30T17:04:29.696554",
     "status": "completed"
    },
    "tags": []
   },
   "outputs": [
    {
     "name": "stderr",
     "output_type": "stream",
     "text": [
      "/opt/conda/lib/python3.10/site-packages/scipy/__init__.py:146: UserWarning: A NumPy version >=1.16.5 and <1.23.0 is required for this version of SciPy (detected version 1.23.5\n",
      "  warnings.warn(f\"A NumPy version >={np_minversion} and <{np_maxversion}\"\n"
     ]
    },
    {
     "name": "stdout",
     "output_type": "stream",
     "text": [
      "Pearson Correlations:\n",
      "Time: -0.0123\n",
      "V1: -0.1013\n",
      "V2: 0.0913\n",
      "V3: -0.1930\n",
      "V4: 0.1334\n",
      "V5: -0.0950\n",
      "V6: -0.0436\n",
      "V7: -0.1873\n",
      "V8: 0.0199\n",
      "V9: -0.0977\n",
      "V10: -0.2169\n",
      "V11: 0.1549\n",
      "V12: -0.2606\n",
      "V13: -0.0046\n",
      "V14: -0.3025\n",
      "V15: -0.0042\n",
      "V16: -0.1965\n",
      "V17: -0.3265\n",
      "V18: -0.1115\n",
      "V19: 0.0348\n",
      "V20: 0.0201\n",
      "V21: 0.0404\n",
      "V22: 0.0008\n",
      "V23: -0.0027\n",
      "V24: -0.0072\n",
      "V25: 0.0033\n",
      "V26: 0.0045\n",
      "V27: 0.0176\n",
      "V28: 0.0095\n",
      "Amount: 0.0056\n"
     ]
    }
   ],
   "source": [
    "import scipy.stats\n",
    "\n",
    "pearson_correlations = []\n",
    "for column in x.columns:\n",
    "    pearson_corr, _ = scipy.stats.pearsonr(x[column], y)\n",
    "    pearson_correlations.append((column, pearson_corr))\n",
    "    \n",
    "print(\"Pearson Correlations:\")\n",
    "for feature, corr in pearson_correlations:\n",
    "    print(f\"{feature}: {corr:.4f}\")    "
   ]
  },
  {
   "cell_type": "markdown",
   "id": "15a2f523",
   "metadata": {
    "papermill": {
     "duration": 0.0506,
     "end_time": "2023-08-30T17:04:31.296723",
     "exception": false,
     "start_time": "2023-08-30T17:04:31.246123",
     "status": "completed"
    },
    "tags": []
   },
   "source": [
    "We can see that the following have high correlation with the target: Class:\n",
    "\n",
    "1. V1: -0.1013\n",
    "2. **V3: -0.1930**\n",
    "3. V4: 0.1334\n",
    "4. **V10: -0.2169**\n",
    "5. V11: 0.1549\n",
    "6. **V12: -0.2606**\n",
    "7. **V14: -0.3025**\n",
    "4. **V16: -0.1965**\n",
    "5. **V17: -0.3265**\n",
    "6. V18: -0.1115\n"
   ]
  },
  {
   "cell_type": "code",
   "execution_count": 13,
   "id": "7b03fd3b",
   "metadata": {
    "execution": {
     "iopub.execute_input": "2023-08-30T17:04:31.352032Z",
     "iopub.status.busy": "2023-08-30T17:04:31.351592Z",
     "iopub.status.idle": "2023-08-30T17:04:31.801287Z",
     "shell.execute_reply": "2023-08-30T17:04:31.799547Z"
    },
    "papermill": {
     "duration": 0.479559,
     "end_time": "2023-08-30T17:04:31.804853",
     "exception": false,
     "start_time": "2023-08-30T17:04:31.325294",
     "status": "completed"
    },
    "tags": []
   },
   "outputs": [],
   "source": [
    "from sklearn.model_selection import train_test_split\n",
    "x_train, x_test, y_train, y_test = train_test_split(x, y, test_size=0.2, random_state=42)\n"
   ]
  },
  {
   "cell_type": "markdown",
   "id": "27c175fc",
   "metadata": {
    "papermill": {
     "duration": 0.024793,
     "end_time": "2023-08-30T17:04:31.854170",
     "exception": false,
     "start_time": "2023-08-30T17:04:31.829377",
     "status": "completed"
    },
    "tags": []
   },
   "source": [
    "**t-test - Feature Selection** : in this step, the t-test was applied on each continuous feature with the binary target 'Class' to assess the relationship for each."
   ]
  },
  {
   "cell_type": "code",
   "execution_count": 14,
   "id": "75b4c6ef",
   "metadata": {
    "execution": {
     "iopub.execute_input": "2023-08-30T17:04:31.904956Z",
     "iopub.status.busy": "2023-08-30T17:04:31.904233Z",
     "iopub.status.idle": "2023-08-30T17:04:32.043956Z",
     "shell.execute_reply": "2023-08-30T17:04:32.042724Z"
    },
    "papermill": {
     "duration": 0.169115,
     "end_time": "2023-08-30T17:04:32.047061",
     "exception": false,
     "start_time": "2023-08-30T17:04:31.877946",
     "status": "completed"
    },
    "tags": []
   },
   "outputs": [
    {
     "name": "stdout",
     "output_type": "stream",
     "text": [
      "T-Test Results:\n",
      "Time: t-statistic=-6.5767, p-value=0.0000\n",
      "V1: t-statistic=-54.3661, p-value=0.0000\n",
      "V2: t-statistic=48.9224, p-value=0.0000\n",
      "V3: t-statistic=-104.9500, p-value=0.0000\n",
      "V4: t-statistic=71.8598, p-value=0.0000\n",
      "V5: t-statistic=-50.9152, p-value=0.0000\n",
      "V6: t-statistic=-23.3133, p-value=0.0000\n",
      "V7: t-statistic=-101.7330, p-value=0.0000\n",
      "V8: t-statistic=10.6089, p-value=0.0000\n",
      "V9: t-statistic=-52.4080, p-value=0.0000\n",
      "V10: t-statistic=-118.5664, p-value=0.0000\n",
      "V11: t-statistic=83.6621, p-value=0.0000\n",
      "V12: t-statistic=-144.0480, p-value=0.0000\n",
      "V13: t-statistic=-2.4388, p-value=0.0147\n",
      "V14: t-statistic=-169.3976, p-value=0.0000\n",
      "V15: t-statistic=-2.2539, p-value=0.0242\n",
      "V16: t-statistic=-106.9736, p-value=0.0000\n",
      "V17: t-statistic=-184.3344, p-value=0.0000\n",
      "V18: t-statistic=-59.8697, p-value=0.0000\n",
      "V19: t-statistic=18.5739, p-value=0.0000\n",
      "V20: t-statistic=10.7238, p-value=0.0000\n",
      "V21: t-statistic=21.5851, p-value=0.0000\n",
      "V22: t-statistic=0.4298, p-value=0.6674\n",
      "V23: t-statistic=-1.4330, p-value=0.1519\n",
      "V24: t-statistic=-3.8537, p-value=0.0001\n",
      "V25: t-statistic=1.7652, p-value=0.0775\n",
      "V26: t-statistic=2.3777, p-value=0.0174\n",
      "V27: t-statistic=9.3832, p-value=0.0000\n",
      "V28: t-statistic=5.0893, p-value=0.0000\n",
      "Amount: t-statistic=3.0056, p-value=0.0027\n"
     ]
    }
   ],
   "source": [
    "t_test = []\n",
    "for column in x.columns:\n",
    "    fraud_values = x[column][y == 1]\n",
    "    non_fraud_values = x[column][y == 0]\n",
    "    t_statistic, p_value = scipy.stats.ttest_ind(fraud_values, non_fraud_values)\n",
    "    t_test.append((column, t_statistic, p_value))\n",
    "\n",
    "# Print t-test results\n",
    "print(\"T-Test Results:\")\n",
    "for feature, t_statistic, p_value in t_test:\n",
    "    print(f\"{feature}: t-statistic={t_statistic:.4f}, p-value={p_value:.4f}\")\n",
    "    "
   ]
  },
  {
   "cell_type": "markdown",
   "id": "88b0a9af",
   "metadata": {
    "papermill": {
     "duration": 0.024002,
     "end_time": "2023-08-30T17:04:32.096120",
     "exception": false,
     "start_time": "2023-08-30T17:04:32.072118",
     "status": "completed"
    },
    "tags": []
   },
   "source": [
    "**p-value explanation:**\n",
    "if p_value is less than the significance level (common 0.05) this means that the feature is potentially informative and we can select it in our model\n",
    "\n",
    "**features to execlude because of high p-value:**\n",
    "1. V22: t-statistic=0.4298, **p-value=0.6674**\n",
    "2. V23: t-statistic=-1.4330, **p-value=0.1519**\n",
    "3. V25: t-statistic=1.7652, **p-value=0.0775**\n",
    " "
   ]
  },
  {
   "cell_type": "markdown",
   "id": "7dd05940",
   "metadata": {
    "papermill": {
     "duration": 0.02404,
     "end_time": "2023-08-30T17:04:32.144104",
     "exception": false,
     "start_time": "2023-08-30T17:04:32.120064",
     "status": "completed"
    },
    "tags": []
   },
   "source": [
    "# Data Preprocessing - Scaling Features\n",
    "\n",
    "The data has high and low mean so the following step will normalize the data.\n",
    "\n",
    "**features (column) with high mean can dominate the learning process.  **"
   ]
  },
  {
   "cell_type": "code",
   "execution_count": 15,
   "id": "3da4b93a",
   "metadata": {
    "execution": {
     "iopub.execute_input": "2023-08-30T17:04:32.197815Z",
     "iopub.status.busy": "2023-08-30T17:04:32.197033Z",
     "iopub.status.idle": "2023-08-30T17:04:32.764821Z",
     "shell.execute_reply": "2023-08-30T17:04:32.763300Z"
    },
    "papermill": {
     "duration": 0.599441,
     "end_time": "2023-08-30T17:04:32.767939",
     "exception": false,
     "start_time": "2023-08-30T17:04:32.168498",
     "status": "completed"
    },
    "tags": []
   },
   "outputs": [
    {
     "data": {
      "text/html": [
       "<div>\n",
       "<style scoped>\n",
       "    .dataframe tbody tr th:only-of-type {\n",
       "        vertical-align: middle;\n",
       "    }\n",
       "\n",
       "    .dataframe tbody tr th {\n",
       "        vertical-align: top;\n",
       "    }\n",
       "\n",
       "    .dataframe thead th {\n",
       "        text-align: right;\n",
       "    }\n",
       "</style>\n",
       "<table border=\"1\" class=\"dataframe\">\n",
       "  <thead>\n",
       "    <tr style=\"text-align: right;\">\n",
       "      <th></th>\n",
       "      <th>0</th>\n",
       "      <th>1</th>\n",
       "      <th>2</th>\n",
       "      <th>3</th>\n",
       "      <th>4</th>\n",
       "      <th>5</th>\n",
       "      <th>6</th>\n",
       "      <th>7</th>\n",
       "      <th>8</th>\n",
       "      <th>9</th>\n",
       "      <th>...</th>\n",
       "      <th>20</th>\n",
       "      <th>21</th>\n",
       "      <th>22</th>\n",
       "      <th>23</th>\n",
       "      <th>24</th>\n",
       "      <th>25</th>\n",
       "      <th>26</th>\n",
       "      <th>27</th>\n",
       "      <th>28</th>\n",
       "      <th>29</th>\n",
       "    </tr>\n",
       "  </thead>\n",
       "  <tbody>\n",
       "    <tr>\n",
       "      <th>count</th>\n",
       "      <td>2.278450e+05</td>\n",
       "      <td>2.278450e+05</td>\n",
       "      <td>2.278450e+05</td>\n",
       "      <td>2.278450e+05</td>\n",
       "      <td>2.278450e+05</td>\n",
       "      <td>2.278450e+05</td>\n",
       "      <td>2.278450e+05</td>\n",
       "      <td>2.278450e+05</td>\n",
       "      <td>2.278450e+05</td>\n",
       "      <td>2.278450e+05</td>\n",
       "      <td>...</td>\n",
       "      <td>2.278450e+05</td>\n",
       "      <td>2.278450e+05</td>\n",
       "      <td>2.278450e+05</td>\n",
       "      <td>2.278450e+05</td>\n",
       "      <td>2.278450e+05</td>\n",
       "      <td>2.278450e+05</td>\n",
       "      <td>2.278450e+05</td>\n",
       "      <td>2.278450e+05</td>\n",
       "      <td>2.278450e+05</td>\n",
       "      <td>2.278450e+05</td>\n",
       "    </tr>\n",
       "    <tr>\n",
       "      <th>mean</th>\n",
       "      <td>-6.330627e-17</td>\n",
       "      <td>1.222466e-17</td>\n",
       "      <td>-2.182975e-18</td>\n",
       "      <td>1.422052e-17</td>\n",
       "      <td>2.120604e-18</td>\n",
       "      <td>1.864884e-17</td>\n",
       "      <td>1.793158e-17</td>\n",
       "      <td>1.325378e-18</td>\n",
       "      <td>-5.675735e-18</td>\n",
       "      <td>-1.135147e-17</td>\n",
       "      <td>...</td>\n",
       "      <td>-5.738105e-18</td>\n",
       "      <td>-1.331615e-17</td>\n",
       "      <td>7.983451e-18</td>\n",
       "      <td>5.363881e-18</td>\n",
       "      <td>7.733968e-18</td>\n",
       "      <td>-2.744311e-18</td>\n",
       "      <td>3.137247e-17</td>\n",
       "      <td>4.178838e-18</td>\n",
       "      <td>3.430389e-18</td>\n",
       "      <td>3.648687e-17</td>\n",
       "    </tr>\n",
       "    <tr>\n",
       "      <th>std</th>\n",
       "      <td>1.000002e+00</td>\n",
       "      <td>1.000002e+00</td>\n",
       "      <td>1.000002e+00</td>\n",
       "      <td>1.000002e+00</td>\n",
       "      <td>1.000002e+00</td>\n",
       "      <td>1.000002e+00</td>\n",
       "      <td>1.000002e+00</td>\n",
       "      <td>1.000002e+00</td>\n",
       "      <td>1.000002e+00</td>\n",
       "      <td>1.000002e+00</td>\n",
       "      <td>...</td>\n",
       "      <td>1.000002e+00</td>\n",
       "      <td>1.000002e+00</td>\n",
       "      <td>1.000002e+00</td>\n",
       "      <td>1.000002e+00</td>\n",
       "      <td>1.000002e+00</td>\n",
       "      <td>1.000002e+00</td>\n",
       "      <td>1.000002e+00</td>\n",
       "      <td>1.000002e+00</td>\n",
       "      <td>1.000002e+00</td>\n",
       "      <td>1.000002e+00</td>\n",
       "    </tr>\n",
       "    <tr>\n",
       "      <th>min</th>\n",
       "      <td>-1.996122e+00</td>\n",
       "      <td>-2.880430e+01</td>\n",
       "      <td>-4.389436e+01</td>\n",
       "      <td>-3.190712e+01</td>\n",
       "      <td>-4.012934e+00</td>\n",
       "      <td>-8.196817e+01</td>\n",
       "      <td>-1.956903e+01</td>\n",
       "      <td>-3.502910e+01</td>\n",
       "      <td>-6.159673e+01</td>\n",
       "      <td>-1.213713e+01</td>\n",
       "      <td>...</td>\n",
       "      <td>-7.040710e+01</td>\n",
       "      <td>-4.754284e+01</td>\n",
       "      <td>-1.507208e+01</td>\n",
       "      <td>-7.145235e+01</td>\n",
       "      <td>-4.684839e+00</td>\n",
       "      <td>-1.973006e+01</td>\n",
       "      <td>-5.398281e+00</td>\n",
       "      <td>-2.462599e+01</td>\n",
       "      <td>-4.679040e+01</td>\n",
       "      <td>-3.470760e-01</td>\n",
       "    </tr>\n",
       "    <tr>\n",
       "      <th>25%</th>\n",
       "      <td>-8.556106e-01</td>\n",
       "      <td>-4.702131e-01</td>\n",
       "      <td>-3.607310e-01</td>\n",
       "      <td>-5.875478e-01</td>\n",
       "      <td>-5.988005e-01</td>\n",
       "      <td>-4.970931e-01</td>\n",
       "      <td>-5.744762e-01</td>\n",
       "      <td>-4.449136e-01</td>\n",
       "      <td>-1.750299e-01</td>\n",
       "      <td>-5.861668e-01</td>\n",
       "      <td>...</td>\n",
       "      <td>-2.743606e-01</td>\n",
       "      <td>-3.125047e-01</td>\n",
       "      <td>-7.467068e-01</td>\n",
       "      <td>-2.574878e-01</td>\n",
       "      <td>-5.858002e-01</td>\n",
       "      <td>-6.072785e-01</td>\n",
       "      <td>-6.783900e-01</td>\n",
       "      <td>-1.765169e-01</td>\n",
       "      <td>-1.614354e-01</td>\n",
       "      <td>-3.251092e-01</td>\n",
       "    </tr>\n",
       "    <tr>\n",
       "      <th>50%</th>\n",
       "      <td>-2.123794e-01</td>\n",
       "      <td>8.712726e-03</td>\n",
       "      <td>4.010289e-02</td>\n",
       "      <td>1.188219e-01</td>\n",
       "      <td>-1.377288e-02</td>\n",
       "      <td>-4.014511e-02</td>\n",
       "      <td>-2.051415e-01</td>\n",
       "      <td>3.231399e-02</td>\n",
       "      <td>1.902688e-02</td>\n",
       "      <td>-4.680929e-02</td>\n",
       "      <td>...</td>\n",
       "      <td>-8.140614e-02</td>\n",
       "      <td>-4.075041e-02</td>\n",
       "      <td>9.245866e-03</td>\n",
       "      <td>-1.717317e-02</td>\n",
       "      <td>6.769125e-02</td>\n",
       "      <td>3.081857e-02</td>\n",
       "      <td>-1.074116e-01</td>\n",
       "      <td>3.462238e-03</td>\n",
       "      <td>3.368619e-02</td>\n",
       "      <td>-2.607777e-01</td>\n",
       "    </tr>\n",
       "    <tr>\n",
       "      <th>75%</th>\n",
       "      <td>9.373337e-01</td>\n",
       "      <td>6.713016e-01</td>\n",
       "      <td>4.855023e-01</td>\n",
       "      <td>6.776435e-01</td>\n",
       "      <td>5.248357e-01</td>\n",
       "      <td>4.397146e-01</td>\n",
       "      <td>2.967299e-01</td>\n",
       "      <td>4.580250e-01</td>\n",
       "      <td>2.758507e-01</td>\n",
       "      <td>5.449214e-01</td>\n",
       "      <td>...</td>\n",
       "      <td>1.713329e-01</td>\n",
       "      <td>2.537002e-01</td>\n",
       "      <td>7.288239e-01</td>\n",
       "      <td>2.360496e-01</td>\n",
       "      <td>7.267500e-01</td>\n",
       "      <td>6.735478e-01</td>\n",
       "      <td>4.995509e-01</td>\n",
       "      <td>2.275448e-01</td>\n",
       "      <td>2.371519e-01</td>\n",
       "      <td>-4.463973e-02</td>\n",
       "    </tr>\n",
       "    <tr>\n",
       "      <th>max</th>\n",
       "      <td>1.642496e+00</td>\n",
       "      <td>1.253114e+00</td>\n",
       "      <td>1.331530e+01</td>\n",
       "      <td>2.765675e+00</td>\n",
       "      <td>1.191991e+01</td>\n",
       "      <td>2.507859e+01</td>\n",
       "      <td>5.483409e+01</td>\n",
       "      <td>9.697579e+01</td>\n",
       "      <td>1.683234e+01</td>\n",
       "      <td>9.468289e+00</td>\n",
       "      <td>...</td>\n",
       "      <td>5.092806e+01</td>\n",
       "      <td>3.713086e+01</td>\n",
       "      <td>1.448251e+01</td>\n",
       "      <td>3.592436e+01</td>\n",
       "      <td>7.572562e+00</td>\n",
       "      <td>1.441376e+01</td>\n",
       "      <td>7.291104e+00</td>\n",
       "      <td>7.867265e+01</td>\n",
       "      <td>1.026381e+02</td>\n",
       "      <td>1.004303e+02</td>\n",
       "    </tr>\n",
       "  </tbody>\n",
       "</table>\n",
       "<p>8 rows × 30 columns</p>\n",
       "</div>"
      ],
      "text/plain": [
       "                 0             1             2             3             4   \\\n",
       "count  2.278450e+05  2.278450e+05  2.278450e+05  2.278450e+05  2.278450e+05   \n",
       "mean  -6.330627e-17  1.222466e-17 -2.182975e-18  1.422052e-17  2.120604e-18   \n",
       "std    1.000002e+00  1.000002e+00  1.000002e+00  1.000002e+00  1.000002e+00   \n",
       "min   -1.996122e+00 -2.880430e+01 -4.389436e+01 -3.190712e+01 -4.012934e+00   \n",
       "25%   -8.556106e-01 -4.702131e-01 -3.607310e-01 -5.875478e-01 -5.988005e-01   \n",
       "50%   -2.123794e-01  8.712726e-03  4.010289e-02  1.188219e-01 -1.377288e-02   \n",
       "75%    9.373337e-01  6.713016e-01  4.855023e-01  6.776435e-01  5.248357e-01   \n",
       "max    1.642496e+00  1.253114e+00  1.331530e+01  2.765675e+00  1.191991e+01   \n",
       "\n",
       "                 5             6             7             8             9   \\\n",
       "count  2.278450e+05  2.278450e+05  2.278450e+05  2.278450e+05  2.278450e+05   \n",
       "mean   1.864884e-17  1.793158e-17  1.325378e-18 -5.675735e-18 -1.135147e-17   \n",
       "std    1.000002e+00  1.000002e+00  1.000002e+00  1.000002e+00  1.000002e+00   \n",
       "min   -8.196817e+01 -1.956903e+01 -3.502910e+01 -6.159673e+01 -1.213713e+01   \n",
       "25%   -4.970931e-01 -5.744762e-01 -4.449136e-01 -1.750299e-01 -5.861668e-01   \n",
       "50%   -4.014511e-02 -2.051415e-01  3.231399e-02  1.902688e-02 -4.680929e-02   \n",
       "75%    4.397146e-01  2.967299e-01  4.580250e-01  2.758507e-01  5.449214e-01   \n",
       "max    2.507859e+01  5.483409e+01  9.697579e+01  1.683234e+01  9.468289e+00   \n",
       "\n",
       "       ...            20            21            22            23  \\\n",
       "count  ...  2.278450e+05  2.278450e+05  2.278450e+05  2.278450e+05   \n",
       "mean   ... -5.738105e-18 -1.331615e-17  7.983451e-18  5.363881e-18   \n",
       "std    ...  1.000002e+00  1.000002e+00  1.000002e+00  1.000002e+00   \n",
       "min    ... -7.040710e+01 -4.754284e+01 -1.507208e+01 -7.145235e+01   \n",
       "25%    ... -2.743606e-01 -3.125047e-01 -7.467068e-01 -2.574878e-01   \n",
       "50%    ... -8.140614e-02 -4.075041e-02  9.245866e-03 -1.717317e-02   \n",
       "75%    ...  1.713329e-01  2.537002e-01  7.288239e-01  2.360496e-01   \n",
       "max    ...  5.092806e+01  3.713086e+01  1.448251e+01  3.592436e+01   \n",
       "\n",
       "                 24            25            26            27            28  \\\n",
       "count  2.278450e+05  2.278450e+05  2.278450e+05  2.278450e+05  2.278450e+05   \n",
       "mean   7.733968e-18 -2.744311e-18  3.137247e-17  4.178838e-18  3.430389e-18   \n",
       "std    1.000002e+00  1.000002e+00  1.000002e+00  1.000002e+00  1.000002e+00   \n",
       "min   -4.684839e+00 -1.973006e+01 -5.398281e+00 -2.462599e+01 -4.679040e+01   \n",
       "25%   -5.858002e-01 -6.072785e-01 -6.783900e-01 -1.765169e-01 -1.614354e-01   \n",
       "50%    6.769125e-02  3.081857e-02 -1.074116e-01  3.462238e-03  3.368619e-02   \n",
       "75%    7.267500e-01  6.735478e-01  4.995509e-01  2.275448e-01  2.371519e-01   \n",
       "max    7.572562e+00  1.441376e+01  7.291104e+00  7.867265e+01  1.026381e+02   \n",
       "\n",
       "                 29  \n",
       "count  2.278450e+05  \n",
       "mean   3.648687e-17  \n",
       "std    1.000002e+00  \n",
       "min   -3.470760e-01  \n",
       "25%   -3.251092e-01  \n",
       "50%   -2.607777e-01  \n",
       "75%   -4.463973e-02  \n",
       "max    1.004303e+02  \n",
       "\n",
       "[8 rows x 30 columns]"
      ]
     },
     "execution_count": 15,
     "metadata": {},
     "output_type": "execute_result"
    }
   ],
   "source": [
    "from sklearn.preprocessing import StandardScaler\n",
    "scaler = StandardScaler()\n",
    "x_train_scaled = scaler.fit_transform(x_train)\n",
    "x_test_scaled = scaler.transform(x_test)\n",
    "\n",
    "# convert from array to panda data fram\n",
    "x_train_df = pd.DataFrame(x_train)\n",
    "x_train_scaled_df = pd.DataFrame(x_train_scaled)\n",
    "x_test_scaled_df = pd.DataFrame(x_test_scaled)\n",
    "\n",
    "x_train_scaled_df.describe()"
   ]
  },
  {
   "cell_type": "code",
   "execution_count": 16,
   "id": "72e194f1",
   "metadata": {
    "execution": {
     "iopub.execute_input": "2023-08-30T17:04:32.821238Z",
     "iopub.status.busy": "2023-08-30T17:04:32.820718Z",
     "iopub.status.idle": "2023-08-30T17:04:33.243861Z",
     "shell.execute_reply": "2023-08-30T17:04:33.242662Z"
    },
    "papermill": {
     "duration": 0.453028,
     "end_time": "2023-08-30T17:04:33.246459",
     "exception": false,
     "start_time": "2023-08-30T17:04:32.793431",
     "status": "completed"
    },
    "tags": []
   },
   "outputs": [
    {
     "data": {
      "text/html": [
       "<div>\n",
       "<style scoped>\n",
       "    .dataframe tbody tr th:only-of-type {\n",
       "        vertical-align: middle;\n",
       "    }\n",
       "\n",
       "    .dataframe tbody tr th {\n",
       "        vertical-align: top;\n",
       "    }\n",
       "\n",
       "    .dataframe thead th {\n",
       "        text-align: right;\n",
       "    }\n",
       "</style>\n",
       "<table border=\"1\" class=\"dataframe\">\n",
       "  <thead>\n",
       "    <tr style=\"text-align: right;\">\n",
       "      <th></th>\n",
       "      <th>Time</th>\n",
       "      <th>V1</th>\n",
       "      <th>V2</th>\n",
       "      <th>V3</th>\n",
       "      <th>V4</th>\n",
       "      <th>V5</th>\n",
       "      <th>V6</th>\n",
       "      <th>V7</th>\n",
       "      <th>V8</th>\n",
       "      <th>V9</th>\n",
       "      <th>...</th>\n",
       "      <th>V20</th>\n",
       "      <th>V21</th>\n",
       "      <th>V22</th>\n",
       "      <th>V23</th>\n",
       "      <th>V24</th>\n",
       "      <th>V25</th>\n",
       "      <th>V26</th>\n",
       "      <th>V27</th>\n",
       "      <th>V28</th>\n",
       "      <th>Amount</th>\n",
       "    </tr>\n",
       "  </thead>\n",
       "  <tbody>\n",
       "    <tr>\n",
       "      <th>count</th>\n",
       "      <td>227845.000000</td>\n",
       "      <td>227845.000000</td>\n",
       "      <td>227845.000000</td>\n",
       "      <td>227845.000000</td>\n",
       "      <td>227845.000000</td>\n",
       "      <td>227845.000000</td>\n",
       "      <td>227845.000000</td>\n",
       "      <td>227845.000000</td>\n",
       "      <td>227845.000000</td>\n",
       "      <td>227845.000000</td>\n",
       "      <td>...</td>\n",
       "      <td>227845.000000</td>\n",
       "      <td>227845.000000</td>\n",
       "      <td>227845.000000</td>\n",
       "      <td>227845.000000</td>\n",
       "      <td>227845.000000</td>\n",
       "      <td>227845.000000</td>\n",
       "      <td>227845.000000</td>\n",
       "      <td>227845.000000</td>\n",
       "      <td>227845.000000</td>\n",
       "      <td>227845.000000</td>\n",
       "    </tr>\n",
       "    <tr>\n",
       "      <th>mean</th>\n",
       "      <td>94792.551673</td>\n",
       "      <td>0.000916</td>\n",
       "      <td>-0.000384</td>\n",
       "      <td>-0.000920</td>\n",
       "      <td>-0.001458</td>\n",
       "      <td>0.000997</td>\n",
       "      <td>-0.000613</td>\n",
       "      <td>0.001090</td>\n",
       "      <td>-0.000383</td>\n",
       "      <td>0.000961</td>\n",
       "      <td>...</td>\n",
       "      <td>0.000398</td>\n",
       "      <td>0.000215</td>\n",
       "      <td>-0.001215</td>\n",
       "      <td>0.000175</td>\n",
       "      <td>-0.000217</td>\n",
       "      <td>-0.000979</td>\n",
       "      <td>-0.000192</td>\n",
       "      <td>-0.000032</td>\n",
       "      <td>0.000257</td>\n",
       "      <td>88.479993</td>\n",
       "    </tr>\n",
       "    <tr>\n",
       "      <th>std</th>\n",
       "      <td>47488.471663</td>\n",
       "      <td>1.958337</td>\n",
       "      <td>1.656602</td>\n",
       "      <td>1.514545</td>\n",
       "      <td>1.415853</td>\n",
       "      <td>1.387667</td>\n",
       "      <td>1.336803</td>\n",
       "      <td>1.243493</td>\n",
       "      <td>1.188643</td>\n",
       "      <td>1.097553</td>\n",
       "      <td>...</td>\n",
       "      <td>0.774045</td>\n",
       "      <td>0.732617</td>\n",
       "      <td>0.725311</td>\n",
       "      <td>0.627103</td>\n",
       "      <td>0.605446</td>\n",
       "      <td>0.521764</td>\n",
       "      <td>0.482443</td>\n",
       "      <td>0.401821</td>\n",
       "      <td>0.329776</td>\n",
       "      <td>254.930277</td>\n",
       "    </tr>\n",
       "    <tr>\n",
       "      <th>min</th>\n",
       "      <td>0.000000</td>\n",
       "      <td>-56.407510</td>\n",
       "      <td>-72.715728</td>\n",
       "      <td>-48.325589</td>\n",
       "      <td>-5.683171</td>\n",
       "      <td>-113.743307</td>\n",
       "      <td>-26.160506</td>\n",
       "      <td>-43.557242</td>\n",
       "      <td>-73.216718</td>\n",
       "      <td>-13.320155</td>\n",
       "      <td>...</td>\n",
       "      <td>-54.497720</td>\n",
       "      <td>-34.830382</td>\n",
       "      <td>-10.933144</td>\n",
       "      <td>-44.807735</td>\n",
       "      <td>-2.836627</td>\n",
       "      <td>-10.295397</td>\n",
       "      <td>-2.604551</td>\n",
       "      <td>-9.895244</td>\n",
       "      <td>-15.430084</td>\n",
       "      <td>0.000000</td>\n",
       "    </tr>\n",
       "    <tr>\n",
       "      <th>25%</th>\n",
       "      <td>54161.000000</td>\n",
       "      <td>-0.919918</td>\n",
       "      <td>-0.597971</td>\n",
       "      <td>-0.890786</td>\n",
       "      <td>-0.849270</td>\n",
       "      <td>-0.688802</td>\n",
       "      <td>-0.768573</td>\n",
       "      <td>-0.552156</td>\n",
       "      <td>-0.208431</td>\n",
       "      <td>-0.642386</td>\n",
       "      <td>...</td>\n",
       "      <td>-0.211969</td>\n",
       "      <td>-0.228730</td>\n",
       "      <td>-0.542809</td>\n",
       "      <td>-0.161296</td>\n",
       "      <td>-0.354887</td>\n",
       "      <td>-0.317835</td>\n",
       "      <td>-0.327476</td>\n",
       "      <td>-0.070960</td>\n",
       "      <td>-0.052980</td>\n",
       "      <td>5.600000</td>\n",
       "    </tr>\n",
       "    <tr>\n",
       "      <th>50%</th>\n",
       "      <td>84707.000000</td>\n",
       "      <td>0.017978</td>\n",
       "      <td>0.066050</td>\n",
       "      <td>0.179041</td>\n",
       "      <td>-0.020959</td>\n",
       "      <td>-0.054711</td>\n",
       "      <td>-0.274846</td>\n",
       "      <td>0.041272</td>\n",
       "      <td>0.022233</td>\n",
       "      <td>-0.050414</td>\n",
       "      <td>...</td>\n",
       "      <td>-0.062614</td>\n",
       "      <td>-0.029639</td>\n",
       "      <td>0.005491</td>\n",
       "      <td>-0.010595</td>\n",
       "      <td>0.040766</td>\n",
       "      <td>0.015101</td>\n",
       "      <td>-0.052011</td>\n",
       "      <td>0.001359</td>\n",
       "      <td>0.011366</td>\n",
       "      <td>22.000000</td>\n",
       "    </tr>\n",
       "    <tr>\n",
       "      <th>75%</th>\n",
       "      <td>139305.000000</td>\n",
       "      <td>1.315548</td>\n",
       "      <td>0.803898</td>\n",
       "      <td>1.025399</td>\n",
       "      <td>0.741630</td>\n",
       "      <td>0.611173</td>\n",
       "      <td>0.396056</td>\n",
       "      <td>0.570639</td>\n",
       "      <td>0.327504</td>\n",
       "      <td>0.599040</td>\n",
       "      <td>...</td>\n",
       "      <td>0.133017</td>\n",
       "      <td>0.186080</td>\n",
       "      <td>0.527408</td>\n",
       "      <td>0.148202</td>\n",
       "      <td>0.439790</td>\n",
       "      <td>0.350453</td>\n",
       "      <td>0.240813</td>\n",
       "      <td>0.091400</td>\n",
       "      <td>0.078464</td>\n",
       "      <td>77.100000</td>\n",
       "    </tr>\n",
       "    <tr>\n",
       "      <th>max</th>\n",
       "      <td>172792.000000</td>\n",
       "      <td>2.454930</td>\n",
       "      <td>22.057729</td>\n",
       "      <td>4.187811</td>\n",
       "      <td>16.875344</td>\n",
       "      <td>34.801666</td>\n",
       "      <td>73.301626</td>\n",
       "      <td>120.589494</td>\n",
       "      <td>20.007208</td>\n",
       "      <td>10.392889</td>\n",
       "      <td>...</td>\n",
       "      <td>39.420904</td>\n",
       "      <td>27.202839</td>\n",
       "      <td>10.503090</td>\n",
       "      <td>22.528412</td>\n",
       "      <td>4.584549</td>\n",
       "      <td>7.519589</td>\n",
       "      <td>3.517346</td>\n",
       "      <td>31.612198</td>\n",
       "      <td>33.847808</td>\n",
       "      <td>25691.160000</td>\n",
       "    </tr>\n",
       "  </tbody>\n",
       "</table>\n",
       "<p>8 rows × 30 columns</p>\n",
       "</div>"
      ],
      "text/plain": [
       "                Time             V1             V2             V3  \\\n",
       "count  227845.000000  227845.000000  227845.000000  227845.000000   \n",
       "mean    94792.551673       0.000916      -0.000384      -0.000920   \n",
       "std     47488.471663       1.958337       1.656602       1.514545   \n",
       "min         0.000000     -56.407510     -72.715728     -48.325589   \n",
       "25%     54161.000000      -0.919918      -0.597971      -0.890786   \n",
       "50%     84707.000000       0.017978       0.066050       0.179041   \n",
       "75%    139305.000000       1.315548       0.803898       1.025399   \n",
       "max    172792.000000       2.454930      22.057729       4.187811   \n",
       "\n",
       "                  V4             V5             V6             V7  \\\n",
       "count  227845.000000  227845.000000  227845.000000  227845.000000   \n",
       "mean       -0.001458       0.000997      -0.000613       0.001090   \n",
       "std         1.415853       1.387667       1.336803       1.243493   \n",
       "min        -5.683171    -113.743307     -26.160506     -43.557242   \n",
       "25%        -0.849270      -0.688802      -0.768573      -0.552156   \n",
       "50%        -0.020959      -0.054711      -0.274846       0.041272   \n",
       "75%         0.741630       0.611173       0.396056       0.570639   \n",
       "max        16.875344      34.801666      73.301626     120.589494   \n",
       "\n",
       "                  V8             V9  ...            V20            V21  \\\n",
       "count  227845.000000  227845.000000  ...  227845.000000  227845.000000   \n",
       "mean       -0.000383       0.000961  ...       0.000398       0.000215   \n",
       "std         1.188643       1.097553  ...       0.774045       0.732617   \n",
       "min       -73.216718     -13.320155  ...     -54.497720     -34.830382   \n",
       "25%        -0.208431      -0.642386  ...      -0.211969      -0.228730   \n",
       "50%         0.022233      -0.050414  ...      -0.062614      -0.029639   \n",
       "75%         0.327504       0.599040  ...       0.133017       0.186080   \n",
       "max        20.007208      10.392889  ...      39.420904      27.202839   \n",
       "\n",
       "                 V22            V23            V24            V25  \\\n",
       "count  227845.000000  227845.000000  227845.000000  227845.000000   \n",
       "mean       -0.001215       0.000175      -0.000217      -0.000979   \n",
       "std         0.725311       0.627103       0.605446       0.521764   \n",
       "min       -10.933144     -44.807735      -2.836627     -10.295397   \n",
       "25%        -0.542809      -0.161296      -0.354887      -0.317835   \n",
       "50%         0.005491      -0.010595       0.040766       0.015101   \n",
       "75%         0.527408       0.148202       0.439790       0.350453   \n",
       "max        10.503090      22.528412       4.584549       7.519589   \n",
       "\n",
       "                 V26            V27            V28         Amount  \n",
       "count  227845.000000  227845.000000  227845.000000  227845.000000  \n",
       "mean       -0.000192      -0.000032       0.000257      88.479993  \n",
       "std         0.482443       0.401821       0.329776     254.930277  \n",
       "min        -2.604551      -9.895244     -15.430084       0.000000  \n",
       "25%        -0.327476      -0.070960      -0.052980       5.600000  \n",
       "50%        -0.052011       0.001359       0.011366      22.000000  \n",
       "75%         0.240813       0.091400       0.078464      77.100000  \n",
       "max         3.517346      31.612198      33.847808   25691.160000  \n",
       "\n",
       "[8 rows x 30 columns]"
      ]
     },
     "execution_count": 16,
     "metadata": {},
     "output_type": "execute_result"
    }
   ],
   "source": [
    "x_train_df.describe()"
   ]
  },
  {
   "cell_type": "markdown",
   "id": "0288e086",
   "metadata": {
    "papermill": {
     "duration": 0.02489,
     "end_time": "2023-08-30T17:04:33.296453",
     "exception": false,
     "start_time": "2023-08-30T17:04:33.271563",
     "status": "completed"
    },
    "tags": []
   },
   "source": [
    "As shown above x_train_df statistics differ from x_train_sacled_df after transforming the data  "
   ]
  },
  {
   "cell_type": "code",
   "execution_count": 17,
   "id": "07201930",
   "metadata": {
    "execution": {
     "iopub.execute_input": "2023-08-30T17:04:33.349103Z",
     "iopub.status.busy": "2023-08-30T17:04:33.348339Z",
     "iopub.status.idle": "2023-08-30T17:04:33.543715Z",
     "shell.execute_reply": "2023-08-30T17:04:33.542414Z"
    },
    "papermill": {
     "duration": 0.224897,
     "end_time": "2023-08-30T17:04:33.546473",
     "exception": false,
     "start_time": "2023-08-30T17:04:33.321576",
     "status": "completed"
    },
    "tags": []
   },
   "outputs": [
    {
     "data": {
      "text/html": [
       "<div>\n",
       "<style scoped>\n",
       "    .dataframe tbody tr th:only-of-type {\n",
       "        vertical-align: middle;\n",
       "    }\n",
       "\n",
       "    .dataframe tbody tr th {\n",
       "        vertical-align: top;\n",
       "    }\n",
       "\n",
       "    .dataframe thead th {\n",
       "        text-align: right;\n",
       "    }\n",
       "</style>\n",
       "<table border=\"1\" class=\"dataframe\">\n",
       "  <thead>\n",
       "    <tr style=\"text-align: right;\">\n",
       "      <th></th>\n",
       "      <th>0</th>\n",
       "      <th>1</th>\n",
       "      <th>2</th>\n",
       "      <th>3</th>\n",
       "      <th>4</th>\n",
       "      <th>5</th>\n",
       "      <th>6</th>\n",
       "      <th>7</th>\n",
       "      <th>8</th>\n",
       "      <th>9</th>\n",
       "      <th>...</th>\n",
       "      <th>20</th>\n",
       "      <th>21</th>\n",
       "      <th>22</th>\n",
       "      <th>23</th>\n",
       "      <th>24</th>\n",
       "      <th>25</th>\n",
       "      <th>26</th>\n",
       "      <th>27</th>\n",
       "      <th>28</th>\n",
       "      <th>29</th>\n",
       "    </tr>\n",
       "  </thead>\n",
       "  <tbody>\n",
       "    <tr>\n",
       "      <th>count</th>\n",
       "      <td>56962.000000</td>\n",
       "      <td>56962.000000</td>\n",
       "      <td>56962.000000</td>\n",
       "      <td>56962.000000</td>\n",
       "      <td>56962.000000</td>\n",
       "      <td>56962.000000</td>\n",
       "      <td>56962.000000</td>\n",
       "      <td>56962.000000</td>\n",
       "      <td>56962.000000</td>\n",
       "      <td>56962.000000</td>\n",
       "      <td>...</td>\n",
       "      <td>56962.000000</td>\n",
       "      <td>56962.000000</td>\n",
       "      <td>56962.000000</td>\n",
       "      <td>56962.000000</td>\n",
       "      <td>56962.000000</td>\n",
       "      <td>56962.000000</td>\n",
       "      <td>56962.000000</td>\n",
       "      <td>56962.000000</td>\n",
       "      <td>56962.000000</td>\n",
       "      <td>56962.000000</td>\n",
       "    </tr>\n",
       "    <tr>\n",
       "      <th>mean</th>\n",
       "      <td>0.002243</td>\n",
       "      <td>-0.002338</td>\n",
       "      <td>0.001159</td>\n",
       "      <td>0.003037</td>\n",
       "      <td>0.005150</td>\n",
       "      <td>-0.003591</td>\n",
       "      <td>0.002293</td>\n",
       "      <td>-0.004381</td>\n",
       "      <td>0.001612</td>\n",
       "      <td>-0.004380</td>\n",
       "      <td>...</td>\n",
       "      <td>-0.002568</td>\n",
       "      <td>-0.001471</td>\n",
       "      <td>0.008379</td>\n",
       "      <td>-0.001393</td>\n",
       "      <td>0.001792</td>\n",
       "      <td>0.009384</td>\n",
       "      <td>0.001986</td>\n",
       "      <td>0.000398</td>\n",
       "      <td>-0.003902</td>\n",
       "      <td>-0.002557</td>\n",
       "    </tr>\n",
       "    <tr>\n",
       "      <th>std</th>\n",
       "      <td>0.999975</td>\n",
       "      <td>1.000923</td>\n",
       "      <td>0.983929</td>\n",
       "      <td>1.005639</td>\n",
       "      <td>1.000055</td>\n",
       "      <td>0.972974</td>\n",
       "      <td>0.982940</td>\n",
       "      <td>0.974002</td>\n",
       "      <td>1.023805</td>\n",
       "      <td>1.004909</td>\n",
       "      <td>...</td>\n",
       "      <td>0.979691</td>\n",
       "      <td>1.012961</td>\n",
       "      <td>1.002671</td>\n",
       "      <td>0.978755</td>\n",
       "      <td>1.001670</td>\n",
       "      <td>0.995309</td>\n",
       "      <td>0.997765</td>\n",
       "      <td>1.022357</td>\n",
       "      <td>1.004648</td>\n",
       "      <td>0.901726</td>\n",
       "    </tr>\n",
       "    <tr>\n",
       "      <th>min</th>\n",
       "      <td>-1.996122</td>\n",
       "      <td>-17.437865</td>\n",
       "      <td>-29.011536</td>\n",
       "      <td>-22.237789</td>\n",
       "      <td>-3.926023</td>\n",
       "      <td>-17.057961</td>\n",
       "      <td>-15.611164</td>\n",
       "      <td>-33.380157</td>\n",
       "      <td>-42.417980</td>\n",
       "      <td>-12.240917</td>\n",
       "      <td>...</td>\n",
       "      <td>-27.820445</td>\n",
       "      <td>-31.243645</td>\n",
       "      <td>-12.251046</td>\n",
       "      <td>-52.350605</td>\n",
       "      <td>-4.665385</td>\n",
       "      <td>-16.665894</td>\n",
       "      <td>-4.287288</td>\n",
       "      <td>-56.158624</td>\n",
       "      <td>-35.512473</td>\n",
       "      <td>-0.347076</td>\n",
       "    </tr>\n",
       "    <tr>\n",
       "      <th>25%</th>\n",
       "      <td>-0.852194</td>\n",
       "      <td>-0.471269</td>\n",
       "      <td>-0.362460</td>\n",
       "      <td>-0.586173</td>\n",
       "      <td>-0.596405</td>\n",
       "      <td>-0.506856</td>\n",
       "      <td>-0.573469</td>\n",
       "      <td>-0.451345</td>\n",
       "      <td>-0.175598</td>\n",
       "      <td>-0.589649</td>\n",
       "      <td>...</td>\n",
       "      <td>-0.272729</td>\n",
       "      <td>-0.310306</td>\n",
       "      <td>-0.743894</td>\n",
       "      <td>-0.262029</td>\n",
       "      <td>-0.583139</td>\n",
       "      <td>-0.600367</td>\n",
       "      <td>-0.672756</td>\n",
       "      <td>-0.174792</td>\n",
       "      <td>-0.161071</td>\n",
       "      <td>-0.325148</td>\n",
       "    </tr>\n",
       "    <tr>\n",
       "      <th>50%</th>\n",
       "      <td>-0.213148</td>\n",
       "      <td>0.009105</td>\n",
       "      <td>0.039089</td>\n",
       "      <td>0.121269</td>\n",
       "      <td>-0.010140</td>\n",
       "      <td>-0.038786</td>\n",
       "      <td>-0.202955</td>\n",
       "      <td>0.027625</td>\n",
       "      <td>0.019441</td>\n",
       "      <td>-0.050468</td>\n",
       "      <td>...</td>\n",
       "      <td>-0.080714</td>\n",
       "      <td>-0.039578</td>\n",
       "      <td>0.018094</td>\n",
       "      <td>-0.021536</td>\n",
       "      <td>0.069768</td>\n",
       "      <td>0.045295</td>\n",
       "      <td>-0.108559</td>\n",
       "      <td>0.003298</td>\n",
       "      <td>0.031905</td>\n",
       "      <td>-0.260778</td>\n",
       "    </tr>\n",
       "    <tr>\n",
       "      <th>75%</th>\n",
       "      <td>0.939124</td>\n",
       "      <td>0.671571</td>\n",
       "      <td>0.484784</td>\n",
       "      <td>0.683049</td>\n",
       "      <td>0.530470</td>\n",
       "      <td>0.442171</td>\n",
       "      <td>0.306663</td>\n",
       "      <td>0.457072</td>\n",
       "      <td>0.275027</td>\n",
       "      <td>0.536981</td>\n",
       "      <td>...</td>\n",
       "      <td>0.171465</td>\n",
       "      <td>0.255632</td>\n",
       "      <td>0.736177</td>\n",
       "      <td>0.231973</td>\n",
       "      <td>0.725065</td>\n",
       "      <td>0.676237</td>\n",
       "      <td>0.500989</td>\n",
       "      <td>0.222574</td>\n",
       "      <td>0.234493</td>\n",
       "      <td>-0.043110</td>\n",
       "    </tr>\n",
       "    <tr>\n",
       "      <th>max</th>\n",
       "      <td>1.642391</td>\n",
       "      <td>1.245085</td>\n",
       "      <td>12.958834</td>\n",
       "      <td>6.195589</td>\n",
       "      <td>8.970583</td>\n",
       "      <td>20.909328</td>\n",
       "      <td>12.338295</td>\n",
       "      <td>17.238923</td>\n",
       "      <td>16.126591</td>\n",
       "      <td>14.208029</td>\n",
       "      <td>...</td>\n",
       "      <td>25.510284</td>\n",
       "      <td>37.130859</td>\n",
       "      <td>11.530525</td>\n",
       "      <td>35.214957</td>\n",
       "      <td>6.591624</td>\n",
       "      <td>11.637140</td>\n",
       "      <td>7.178967</td>\n",
       "      <td>22.898111</td>\n",
       "      <td>48.341617</td>\n",
       "      <td>38.879422</td>\n",
       "    </tr>\n",
       "  </tbody>\n",
       "</table>\n",
       "<p>8 rows × 30 columns</p>\n",
       "</div>"
      ],
      "text/plain": [
       "                 0             1             2             3             4   \\\n",
       "count  56962.000000  56962.000000  56962.000000  56962.000000  56962.000000   \n",
       "mean       0.002243     -0.002338      0.001159      0.003037      0.005150   \n",
       "std        0.999975      1.000923      0.983929      1.005639      1.000055   \n",
       "min       -1.996122    -17.437865    -29.011536    -22.237789     -3.926023   \n",
       "25%       -0.852194     -0.471269     -0.362460     -0.586173     -0.596405   \n",
       "50%       -0.213148      0.009105      0.039089      0.121269     -0.010140   \n",
       "75%        0.939124      0.671571      0.484784      0.683049      0.530470   \n",
       "max        1.642391      1.245085     12.958834      6.195589      8.970583   \n",
       "\n",
       "                 5             6             7             8             9   \\\n",
       "count  56962.000000  56962.000000  56962.000000  56962.000000  56962.000000   \n",
       "mean      -0.003591      0.002293     -0.004381      0.001612     -0.004380   \n",
       "std        0.972974      0.982940      0.974002      1.023805      1.004909   \n",
       "min      -17.057961    -15.611164    -33.380157    -42.417980    -12.240917   \n",
       "25%       -0.506856     -0.573469     -0.451345     -0.175598     -0.589649   \n",
       "50%       -0.038786     -0.202955      0.027625      0.019441     -0.050468   \n",
       "75%        0.442171      0.306663      0.457072      0.275027      0.536981   \n",
       "max       20.909328     12.338295     17.238923     16.126591     14.208029   \n",
       "\n",
       "       ...            20            21            22            23  \\\n",
       "count  ...  56962.000000  56962.000000  56962.000000  56962.000000   \n",
       "mean   ...     -0.002568     -0.001471      0.008379     -0.001393   \n",
       "std    ...      0.979691      1.012961      1.002671      0.978755   \n",
       "min    ...    -27.820445    -31.243645    -12.251046    -52.350605   \n",
       "25%    ...     -0.272729     -0.310306     -0.743894     -0.262029   \n",
       "50%    ...     -0.080714     -0.039578      0.018094     -0.021536   \n",
       "75%    ...      0.171465      0.255632      0.736177      0.231973   \n",
       "max    ...     25.510284     37.130859     11.530525     35.214957   \n",
       "\n",
       "                 24            25            26            27            28  \\\n",
       "count  56962.000000  56962.000000  56962.000000  56962.000000  56962.000000   \n",
       "mean       0.001792      0.009384      0.001986      0.000398     -0.003902   \n",
       "std        1.001670      0.995309      0.997765      1.022357      1.004648   \n",
       "min       -4.665385    -16.665894     -4.287288    -56.158624    -35.512473   \n",
       "25%       -0.583139     -0.600367     -0.672756     -0.174792     -0.161071   \n",
       "50%        0.069768      0.045295     -0.108559      0.003298      0.031905   \n",
       "75%        0.725065      0.676237      0.500989      0.222574      0.234493   \n",
       "max        6.591624     11.637140      7.178967     22.898111     48.341617   \n",
       "\n",
       "                 29  \n",
       "count  56962.000000  \n",
       "mean      -0.002557  \n",
       "std        0.901726  \n",
       "min       -0.347076  \n",
       "25%       -0.325148  \n",
       "50%       -0.260778  \n",
       "75%       -0.043110  \n",
       "max       38.879422  \n",
       "\n",
       "[8 rows x 30 columns]"
      ]
     },
     "execution_count": 17,
     "metadata": {},
     "output_type": "execute_result"
    }
   ],
   "source": [
    "x_test_scaled_df.describe()"
   ]
  },
  {
   "cell_type": "markdown",
   "id": "174f9520",
   "metadata": {
    "papermill": {
     "duration": 0.028029,
     "end_time": "2023-08-30T17:04:33.601735",
     "exception": false,
     "start_time": "2023-08-30T17:04:33.573706",
     "status": "completed"
    },
    "tags": []
   },
   "source": [
    "# Oversampling\n",
    "\n",
    "In our data set we have the following counts for the results for our target \"Class\":\n",
    "\n",
    "0:    **284315**  - non fraud\n",
    "\n",
    "1:       **492**  - fraud\n",
    "\n",
    "\n",
    "we will use it in the mdel and test the accuracy\n"
   ]
  },
  {
   "cell_type": "code",
   "execution_count": 18,
   "id": "0a9061be",
   "metadata": {
    "execution": {
     "iopub.execute_input": "2023-08-30T17:04:33.656209Z",
     "iopub.status.busy": "2023-08-30T17:04:33.655491Z",
     "iopub.status.idle": "2023-08-30T17:04:34.723463Z",
     "shell.execute_reply": "2023-08-30T17:04:34.722255Z"
    },
    "papermill": {
     "duration": 1.099064,
     "end_time": "2023-08-30T17:04:34.726701",
     "exception": false,
     "start_time": "2023-08-30T17:04:33.627637",
     "status": "completed"
    },
    "tags": []
   },
   "outputs": [],
   "source": [
    "from imblearn.over_sampling import SMOTE\n",
    "smote = SMOTE(random_state=42)\n",
    "x_train_scaled_oversampled, y_train_oversampled = smote.fit_resample(x_train_scaled, y_train)\n"
   ]
  },
  {
   "cell_type": "markdown",
   "id": "8e7a5b47",
   "metadata": {
    "papermill": {
     "duration": 0.028188,
     "end_time": "2023-08-30T17:04:34.783747",
     "exception": false,
     "start_time": "2023-08-30T17:04:34.755559",
     "status": "completed"
    },
    "tags": []
   },
   "source": [
    "# Undersampling\n",
    "\n",
    "we will use also undersampling in the model and test the accuracy and take the better model\n"
   ]
  },
  {
   "cell_type": "code",
   "execution_count": 19,
   "id": "d63c4c09",
   "metadata": {
    "execution": {
     "iopub.execute_input": "2023-08-30T17:04:34.837997Z",
     "iopub.status.busy": "2023-08-30T17:04:34.837540Z",
     "iopub.status.idle": "2023-08-30T17:04:34.914253Z",
     "shell.execute_reply": "2023-08-30T17:04:34.912850Z"
    },
    "papermill": {
     "duration": 0.107154,
     "end_time": "2023-08-30T17:04:34.917386",
     "exception": false,
     "start_time": "2023-08-30T17:04:34.810232",
     "status": "completed"
    },
    "tags": []
   },
   "outputs": [],
   "source": [
    "from imblearn.under_sampling import RandomUnderSampler\n",
    "under_sampler = RandomUnderSampler(random_state=42)\n",
    "X_train_scaled_undersampled, y_train_undersampled = under_sampler.fit_resample(x_train_scaled, y_train)\n"
   ]
  },
  {
   "cell_type": "markdown",
   "id": "f4d914b3",
   "metadata": {
    "papermill": {
     "duration": 0.026431,
     "end_time": "2023-08-30T17:04:34.970067",
     "exception": false,
     "start_time": "2023-08-30T17:04:34.943636",
     "status": "completed"
    },
    "tags": []
   },
   "source": [
    "    # **Neural Network**\n",
    "\n",
    "here we used two activation function:\n",
    "1. ReLU (Rectified Linear Activation):f(x) = max(0, x) used in hidden layers to address the vanishing gradient problem\n",
    "2. Sigmoid Activation: f(x) = 1 / (1 + exp(-x)) for target prediction\n",
    "\n",
    "** we used all the feature in this model as NN can handle large number of inputs \n"
   ]
  },
  {
   "cell_type": "markdown",
   "id": "0f52176c",
   "metadata": {
    "papermill": {
     "duration": 0.025409,
     "end_time": "2023-08-30T17:04:35.021697",
     "exception": false,
     "start_time": "2023-08-30T17:04:34.996288",
     "status": "completed"
    },
    "tags": []
   },
   "source": [
    "># Model 1: NN with Oversampling - Using All features"
   ]
  },
  {
   "cell_type": "code",
   "execution_count": 20,
   "id": "5f882020",
   "metadata": {
    "execution": {
     "iopub.execute_input": "2023-08-30T17:04:35.075438Z",
     "iopub.status.busy": "2023-08-30T17:04:35.074971Z",
     "iopub.status.idle": "2023-08-30T17:10:11.908956Z",
     "shell.execute_reply": "2023-08-30T17:10:11.907448Z"
    },
    "papermill": {
     "duration": 336.86447,
     "end_time": "2023-08-30T17:10:11.911854",
     "exception": false,
     "start_time": "2023-08-30T17:04:35.047384",
     "status": "completed"
    },
    "tags": []
   },
   "outputs": [
    {
     "name": "stderr",
     "output_type": "stream",
     "text": [
      "/opt/conda/lib/python3.10/site-packages/tensorflow_io/python/ops/__init__.py:98: UserWarning: unable to load libtensorflow_io_plugins.so: unable to open file: libtensorflow_io_plugins.so, from paths: ['/opt/conda/lib/python3.10/site-packages/tensorflow_io/python/ops/libtensorflow_io_plugins.so']\n",
      "caused by: ['/opt/conda/lib/python3.10/site-packages/tensorflow_io/python/ops/libtensorflow_io_plugins.so: undefined symbol: _ZN3tsl6StatusC1EN10tensorflow5error4CodeESt17basic_string_viewIcSt11char_traitsIcEENS_14SourceLocationE']\n",
      "  warnings.warn(f\"unable to load libtensorflow_io_plugins.so: {e}\")\n",
      "/opt/conda/lib/python3.10/site-packages/tensorflow_io/python/ops/__init__.py:104: UserWarning: file system plugins are not loaded: unable to open file: libtensorflow_io.so, from paths: ['/opt/conda/lib/python3.10/site-packages/tensorflow_io/python/ops/libtensorflow_io.so']\n",
      "caused by: ['/opt/conda/lib/python3.10/site-packages/tensorflow_io/python/ops/libtensorflow_io.so: undefined symbol: _ZTVN10tensorflow13GcsFileSystemE']\n",
      "  warnings.warn(f\"file system plugins are not loaded: {e}\")\n"
     ]
    },
    {
     "name": "stdout",
     "output_type": "stream",
     "text": [
      "Epoch 1/10\n",
      "12795/12795 [==============================] - 29s 2ms/step - loss: 0.0208 - accuracy: 0.9937 - val_loss: 0.0020 - val_accuracy: 1.0000\n",
      "Epoch 2/10\n",
      "12795/12795 [==============================] - 27s 2ms/step - loss: 0.0052 - accuracy: 0.9988 - val_loss: 0.0025 - val_accuracy: 0.9992\n",
      "Epoch 3/10\n",
      "12795/12795 [==============================] - 27s 2ms/step - loss: 0.0040 - accuracy: 0.9990 - val_loss: 5.4054e-04 - val_accuracy: 1.0000\n",
      "Epoch 4/10\n",
      "12795/12795 [==============================] - 26s 2ms/step - loss: 0.0030 - accuracy: 0.9993 - val_loss: 7.0963e-04 - val_accuracy: 1.0000\n",
      "Epoch 5/10\n",
      "12795/12795 [==============================] - 27s 2ms/step - loss: 0.0025 - accuracy: 0.9994 - val_loss: 0.0016 - val_accuracy: 0.9995\n",
      "Epoch 6/10\n",
      "12795/12795 [==============================] - 28s 2ms/step - loss: 0.0020 - accuracy: 0.9996 - val_loss: 2.0461e-04 - val_accuracy: 1.0000\n",
      "Epoch 7/10\n",
      "12795/12795 [==============================] - 26s 2ms/step - loss: 0.0019 - accuracy: 0.9996 - val_loss: 4.8317e-04 - val_accuracy: 1.0000\n",
      "Epoch 8/10\n",
      "12795/12795 [==============================] - 29s 2ms/step - loss: 0.0018 - accuracy: 0.9996 - val_loss: 9.0978e-05 - val_accuracy: 1.0000\n",
      "Epoch 9/10\n",
      "12795/12795 [==============================] - 28s 2ms/step - loss: 0.0017 - accuracy: 0.9996 - val_loss: 4.1068e-04 - val_accuracy: 1.0000\n",
      "Epoch 10/10\n",
      "12795/12795 [==============================] - 27s 2ms/step - loss: 0.0014 - accuracy: 0.9997 - val_loss: 2.1895e-04 - val_accuracy: 1.0000\n",
      "1781/1781 [==============================] - 3s 1ms/step - loss: 0.0161 - accuracy: 0.9988\n",
      "Test loss: 0.0161, Test accuracy: 0.9988\n"
     ]
    }
   ],
   "source": [
    "from keras.models import Sequential\n",
    "from keras.layers import Dense\n",
    "\n",
    "# step1: build the model\n",
    "model_nn_oversampling = Sequential()\n",
    "model_nn_oversampling.add(Dense(64, activation='relu', input_shape=(x_train_scaled_oversampled.shape[1],)))\n",
    "model_nn_oversampling.add(Dense(32, activation='relu'))\n",
    "model_nn_oversampling.add(Dense(1, activation='sigmoid'))\n",
    "\n",
    "#Step2: compile the model\n",
    "model_nn_oversampling.compile(optimizer='adam', loss='binary_crossentropy', metrics=['accuracy'])\n",
    "\n",
    "#Step3: train the model\n",
    "training_nn_oversampling_history = model_nn_oversampling.fit(x_train_scaled_oversampled, y_train_oversampled, epochs=10, batch_size=32, validation_split=0.1)\n",
    "\n",
    "#Step4: Evaluate the model\n",
    "loss, accuracy = model_nn_oversampling.evaluate(x_test_scaled, y_test)\n",
    "print(f\"Test loss: {loss:.4f}, Test accuracy: {accuracy:.4f}\")\n",
    "\n",
    "\n",
    "\n",
    "\n",
    "\n"
   ]
  },
  {
   "cell_type": "markdown",
   "id": "239587d1",
   "metadata": {
    "papermill": {
     "duration": 0.500108,
     "end_time": "2023-08-30T17:10:12.904884",
     "exception": false,
     "start_time": "2023-08-30T17:10:12.404776",
     "status": "completed"
    },
    "tags": []
   },
   "source": [
    "In this model: the **Test loss value of 0.0179** indicates that the model's predictions are closer to the actual outcomes.\n",
    "\n",
    "The **Accuracy of 0.9988** reflect statistics on correctly predicted instances\n",
    "\n",
    "\n"
   ]
  },
  {
   "cell_type": "markdown",
   "id": "5d49d555",
   "metadata": {
    "papermill": {
     "duration": 0.505429,
     "end_time": "2023-08-30T17:10:14.003978",
     "exception": false,
     "start_time": "2023-08-30T17:10:13.498549",
     "status": "completed"
    },
    "tags": []
   },
   "source": [
    "> **Plot the loss to detect overfitting**"
   ]
  },
  {
   "cell_type": "code",
   "execution_count": 21,
   "id": "d9f68404",
   "metadata": {
    "execution": {
     "iopub.execute_input": "2023-08-30T17:10:15.004444Z",
     "iopub.status.busy": "2023-08-30T17:10:15.002707Z",
     "iopub.status.idle": "2023-08-30T17:10:15.012215Z",
     "shell.execute_reply": "2023-08-30T17:10:15.010361Z"
    },
    "papermill": {
     "duration": 0.516542,
     "end_time": "2023-08-30T17:10:15.015252",
     "exception": false,
     "start_time": "2023-08-30T17:10:14.498710",
     "status": "completed"
    },
    "tags": []
   },
   "outputs": [],
   "source": [
    "# Extract training and validation loss values from the training_nn_oversampling_history\n",
    "train_nn1_loss = training_nn_oversampling_history.history['loss']\n",
    "val_nn1_loss = training_nn_oversampling_history.history['val_loss']\n",
    "\n",
    "# Extract training and validation accuracy values from the training_nn_oversampling_history\n",
    "train_nn1_acc = training_nn_oversampling_history.history['accuracy']\n",
    "val_nn1_acc = training_nn_oversampling_history.history['val_accuracy']"
   ]
  },
  {
   "cell_type": "code",
   "execution_count": 22,
   "id": "737c8e8a",
   "metadata": {
    "execution": {
     "iopub.execute_input": "2023-08-30T17:10:15.997989Z",
     "iopub.status.busy": "2023-08-30T17:10:15.997518Z",
     "iopub.status.idle": "2023-08-30T17:10:16.711021Z",
     "shell.execute_reply": "2023-08-30T17:10:16.709712Z"
    },
    "papermill": {
     "duration": 1.214071,
     "end_time": "2023-08-30T17:10:16.714339",
     "exception": false,
     "start_time": "2023-08-30T17:10:15.500268",
     "status": "completed"
    },
    "tags": []
   },
   "outputs": [
    {
     "data": {
      "image/png": "[encoded data removed]",
      "text/plain": [
       "<Figure size 1000x500 with 2 Axes>"
      ]
     },
     "metadata": {},
     "output_type": "display_data"
    }
   ],
   "source": [
    "import matplotlib.pyplot as plt\n",
    "\n",
    "# Plot Loss\n",
    "\n",
    "plt.figure(figsize=(10, 5))\n",
    "plt.subplot(1, 2, 1)\n",
    "plt.plot(range(1, 11), train_nn1_loss, label='Train Loss')\n",
    "plt.plot(range(1, 11), val_nn1_loss, label='Validation Loss')\n",
    "plt.xlabel('Epoch')\n",
    "plt.ylabel('Loss')\n",
    "plt.title('Training and Validation Loss')\n",
    "plt.legend()\n",
    "\n",
    "# Plot accuracy \n",
    "plt.subplot(1, 2, 2)\n",
    "plt.plot(range(1, 11), train_nn1_acc, label='Train Accuracy')\n",
    "plt.plot(range(1, 11), val_nn1_acc, label='Validation Accuracy')\n",
    "plt.xlabel('Epoch')\n",
    "plt.ylabel('Accuracy')\n",
    "plt.title('Training and Validation Accuracy')\n",
    "plt.legend()\n",
    "\n",
    "plt.tight_layout()\n",
    "plt.show()"
   ]
  },
  {
   "cell_type": "markdown",
   "id": "2c30cd9c",
   "metadata": {
    "papermill": {
     "duration": 0.496982,
     "end_time": "2023-08-30T17:10:17.800110",
     "exception": false,
     "start_time": "2023-08-30T17:10:17.303128",
     "status": "completed"
    },
    "tags": []
   },
   "source": [
    "**Conclusion** \n",
    "\n",
    "From the plot above: \n",
    "\n",
    "1. Both the training and validation loss are decreasing over the epochs, it indicates that the model is learning effectively. \n",
    "\n",
    "2. Both training and validation accuracy are increasing, it's a positive sign that the model is learning effectively"
   ]
  },
  {
   "cell_type": "code",
   "execution_count": 23,
   "id": "5615cbe1",
   "metadata": {
    "execution": {
     "iopub.execute_input": "2023-08-30T17:10:18.813457Z",
     "iopub.status.busy": "2023-08-30T17:10:18.812037Z",
     "iopub.status.idle": "2023-08-30T17:10:22.133229Z",
     "shell.execute_reply": "2023-08-30T17:10:22.132006Z"
    },
    "papermill": {
     "duration": 3.83318,
     "end_time": "2023-08-30T17:10:22.136068",
     "exception": false,
     "start_time": "2023-08-30T17:10:18.302888",
     "status": "completed"
    },
    "tags": []
   },
   "outputs": [
    {
     "name": "stdout",
     "output_type": "stream",
     "text": [
      "1781/1781 [==============================] - 2s 1ms/step\n",
      "[[1.0000000e+00]\n",
      " [4.4140880e-32]\n",
      " [7.6427818e-27]\n",
      " ...\n",
      " [1.1689581e-37]\n",
      " [0.0000000e+00]\n",
      " [1.1627692e-19]]\n",
      "**** As binary Output ******\n",
      "[[1]\n",
      " [0]\n",
      " [0]\n",
      " ...\n",
      " [0]\n",
      " [0]\n",
      " [0]]\n"
     ]
    }
   ],
   "source": [
    "# step 5: predect values \n",
    "predictions = model_nn_oversampling.predict(x_test_scaled)\n",
    "print(predictions)\n",
    "\n",
    "#convert results to binary\n",
    "print(\"**** As binary Output ******\")\n",
    "binary_predictions = (predictions >= 0.5).astype(int)\n",
    "print(binary_predictions)"
   ]
  },
  {
   "cell_type": "markdown",
   "id": "1df0187b",
   "metadata": {
    "papermill": {
     "duration": 0.49823,
     "end_time": "2023-08-30T17:10:23.151627",
     "exception": false,
     "start_time": "2023-08-30T17:10:22.653397",
     "status": "completed"
    },
    "tags": []
   },
   "source": [
    "> **NN Oversampling Confusion Matrix** "
   ]
  },
  {
   "cell_type": "code",
   "execution_count": 24,
   "id": "c284c84c",
   "metadata": {
    "execution": {
     "iopub.execute_input": "2023-08-30T17:10:24.248885Z",
     "iopub.status.busy": "2023-08-30T17:10:24.247776Z",
     "iopub.status.idle": "2023-08-30T17:10:25.016066Z",
     "shell.execute_reply": "2023-08-30T17:10:25.015137Z"
    },
    "papermill": {
     "duration": 1.36239,
     "end_time": "2023-08-30T17:10:25.018401",
     "exception": false,
     "start_time": "2023-08-30T17:10:23.656011",
     "status": "completed"
    },
    "tags": []
   },
   "outputs": [
    {
     "data": {
      "image/png": "[encoded data removed]",
      "text/plain": [
       "<Figure size 800x600 with 1 Axes>"
      ]
     },
     "metadata": {},
     "output_type": "display_data"
    }
   ],
   "source": [
    "from sklearn.metrics import confusion_matrix\n",
    "import seaborn as sns\n",
    "\n",
    "# Calculate confusion matrix\n",
    "conf_matrix_nn1 = confusion_matrix(y_test, binary_predictions)\n",
    "\n",
    "# Create a heatmap for the confusion matrix\n",
    "plt.figure(figsize=(8, 6))\n",
    "sns.heatmap(conf_matrix_nn1, annot=True, fmt='d', cmap='Blues', cbar=False)\n",
    "plt.xlabel('Predicted')\n",
    "plt.ylabel('Actual')\n",
    "plt.title('Confusion Matrix - NN Oversampling')\n",
    "plt.xticks([0.5, 1.5], ['Non-Fraud', 'Fraud'])\n",
    "plt.yticks([0.5, 1.5], ['Non-Fraud', 'Fraud'])\n",
    "plt.show()"
   ]
  },
  {
   "cell_type": "markdown",
   "id": "05b2e214",
   "metadata": {
    "papermill": {
     "duration": 0.508486,
     "end_time": "2023-08-30T17:10:26.023299",
     "exception": false,
     "start_time": "2023-08-30T17:10:25.514813",
     "status": "completed"
    },
    "tags": []
   },
   "source": [
    "># **Model 2: NN with Undersampling - Using All features **"
   ]
  },
  {
   "cell_type": "code",
   "execution_count": 25,
   "id": "41cb90ff",
   "metadata": {
    "execution": {
     "iopub.execute_input": "2023-08-30T17:10:27.033656Z",
     "iopub.status.busy": "2023-08-30T17:10:27.033193Z",
     "iopub.status.idle": "2023-08-30T17:10:34.359121Z",
     "shell.execute_reply": "2023-08-30T17:10:34.357902Z"
    },
    "papermill": {
     "duration": 7.83236,
     "end_time": "2023-08-30T17:10:34.361673",
     "exception": false,
     "start_time": "2023-08-30T17:10:26.529313",
     "status": "completed"
    },
    "tags": []
   },
   "outputs": [
    {
     "name": "stdout",
     "output_type": "stream",
     "text": [
      "Epoch 1/10\n",
      "23/23 [==============================] - 1s 11ms/step - loss: 0.4450 - accuracy: 0.7870 - val_loss: 0.1724 - val_accuracy: 0.8734\n",
      "Epoch 2/10\n",
      "23/23 [==============================] - 0s 4ms/step - loss: 0.2890 - accuracy: 0.9210 - val_loss: 0.1742 - val_accuracy: 0.8987\n",
      "Epoch 3/10\n",
      "23/23 [==============================] - 0s 4ms/step - loss: 0.2286 - accuracy: 0.9323 - val_loss: 0.1781 - val_accuracy: 0.8987\n",
      "Epoch 4/10\n",
      "23/23 [==============================] - 0s 4ms/step - loss: 0.1858 - accuracy: 0.9365 - val_loss: 0.1689 - val_accuracy: 0.8987\n",
      "Epoch 5/10\n",
      "23/23 [==============================] - 0s 4ms/step - loss: 0.1639 - accuracy: 0.9408 - val_loss: 0.1730 - val_accuracy: 0.9114\n",
      "Epoch 6/10\n",
      "23/23 [==============================] - 0s 4ms/step - loss: 0.1464 - accuracy: 0.9450 - val_loss: 0.1681 - val_accuracy: 0.9114\n",
      "Epoch 7/10\n",
      "23/23 [==============================] - 0s 4ms/step - loss: 0.1342 - accuracy: 0.9478 - val_loss: 0.1741 - val_accuracy: 0.9241\n",
      "Epoch 8/10\n",
      "23/23 [==============================] - 0s 4ms/step - loss: 0.1229 - accuracy: 0.9520 - val_loss: 0.1714 - val_accuracy: 0.9494\n",
      "Epoch 9/10\n",
      "23/23 [==============================] - 0s 4ms/step - loss: 0.1153 - accuracy: 0.9605 - val_loss: 0.1674 - val_accuracy: 0.9494\n",
      "Epoch 10/10\n",
      "23/23 [==============================] - 0s 4ms/step - loss: 0.1099 - accuracy: 0.9591 - val_loss: 0.1694 - val_accuracy: 0.9494\n",
      "1781/1781 [==============================] - 3s 2ms/step - loss: 0.1159 - accuracy: 0.9721\n",
      "Test loss: 0.1159, Test accuracy: 0.9721\n"
     ]
    }
   ],
   "source": [
    "# step1: build the model\n",
    "model_nn_undersampling = Sequential()\n",
    "model_nn_undersampling.add(Dense(64, activation='relu', input_shape=(X_train_scaled_undersampled.shape[1],)))\n",
    "model_nn_undersampling.add(Dense(32, activation='relu'))\n",
    "model_nn_undersampling.add(Dense(1, activation='sigmoid'))\n",
    "\n",
    "#Step2: compile the model\n",
    "model_nn_undersampling.compile(optimizer='adam', loss='binary_crossentropy', metrics=['accuracy'])\n",
    "\n",
    "#Step3: train the model\n",
    "training_nn_undersampling_history = model_nn_undersampling.fit(X_train_scaled_undersampled, y_train_undersampled, epochs=10, batch_size=32, validation_split=0.1)\n",
    "\n",
    "#Step4: Evaluate the model\n",
    "loss, accuracy = model_nn_undersampling.evaluate(x_test_scaled, y_test)\n",
    "print(f\"Test loss: {loss:.4f}, Test accuracy: {accuracy:.4f}\")"
   ]
  },
  {
   "cell_type": "markdown",
   "id": "b0963823",
   "metadata": {
    "papermill": {
     "duration": 0.50912,
     "end_time": "2023-08-30T17:10:35.481328",
     "exception": false,
     "start_time": "2023-08-30T17:10:34.972208",
     "status": "completed"
    },
    "tags": []
   },
   "source": [
    "In this model: the Test loss value is 0.1102 which is greater than the first model, this means \n",
    "\n",
    "The Accuracy of 0.9702 which is less than the first model\n",
    "\n",
    "> **First Conclusion**\n",
    "\n",
    "> *model_nn_oversampling is better than model_nn_undersampling*"
   ]
  },
  {
   "cell_type": "code",
   "execution_count": 26,
   "id": "1e5ad640",
   "metadata": {
    "execution": {
     "iopub.execute_input": "2023-08-30T17:10:36.503148Z",
     "iopub.status.busy": "2023-08-30T17:10:36.502347Z",
     "iopub.status.idle": "2023-08-30T17:10:39.363241Z",
     "shell.execute_reply": "2023-08-30T17:10:39.361630Z"
    },
    "papermill": {
     "duration": 3.373456,
     "end_time": "2023-08-30T17:10:39.366028",
     "exception": false,
     "start_time": "2023-08-30T17:10:35.992572",
     "status": "completed"
    },
    "tags": []
   },
   "outputs": [
    {
     "name": "stdout",
     "output_type": "stream",
     "text": [
      "1781/1781 [==============================] - 2s 1ms/step\n",
      "[[1.        ]\n",
      " [0.04679851]\n",
      " [0.01781122]\n",
      " ...\n",
      " [0.12593699]\n",
      " [0.02124142]\n",
      " [0.5474005 ]]\n",
      "**** As binary Output ******\n",
      "[[1]\n",
      " [0]\n",
      " [0]\n",
      " ...\n",
      " [0]\n",
      " [0]\n",
      " [1]]\n"
     ]
    }
   ],
   "source": [
    "# step 5: predect values \n",
    "predictions_nn_undersampling = model_nn_undersampling.predict(x_test_scaled)\n",
    "print(predictions_nn_undersampling)\n",
    "\n",
    "#convert results to binary\n",
    "print(\"**** As binary Output ******\")\n",
    "binary_undersampling_predictions = (predictions_nn_undersampling >= 0.5).astype(int)\n",
    "print(binary_undersampling_predictions)"
   ]
  },
  {
   "cell_type": "markdown",
   "id": "65b87eb8",
   "metadata": {
    "papermill": {
     "duration": 0.51367,
     "end_time": "2023-08-30T17:10:40.422496",
     "exception": false,
     "start_time": "2023-08-30T17:10:39.908826",
     "status": "completed"
    },
    "tags": []
   },
   "source": [
    "> **Plot the loss to detect overfitting**"
   ]
  },
  {
   "cell_type": "code",
   "execution_count": 27,
   "id": "4fd332be",
   "metadata": {
    "execution": {
     "iopub.execute_input": "2023-08-30T17:10:41.550597Z",
     "iopub.status.busy": "2023-08-30T17:10:41.549255Z",
     "iopub.status.idle": "2023-08-30T17:10:41.555717Z",
     "shell.execute_reply": "2023-08-30T17:10:41.554532Z"
    },
    "papermill": {
     "duration": 0.532206,
     "end_time": "2023-08-30T17:10:41.558564",
     "exception": false,
     "start_time": "2023-08-30T17:10:41.026358",
     "status": "completed"
    },
    "tags": []
   },
   "outputs": [],
   "source": [
    "# Extract training and validation loss values from the training_nn_oversampling_history\n",
    "train_nn2_loss = training_nn_undersampling_history.history['loss']\n",
    "val_nn2_loss = training_nn_undersampling_history.history['val_loss']\n",
    "\n",
    "# Extract training and validation accuracy values from the training_nn_oversampling_history\n",
    "train_nn2_acc = training_nn_undersampling_history.history['accuracy']\n",
    "val_nn2_acc = training_nn_undersampling_history.history['val_accuracy']"
   ]
  },
  {
   "cell_type": "code",
   "execution_count": 28,
   "id": "32d465e5",
   "metadata": {
    "execution": {
     "iopub.execute_input": "2023-08-30T17:10:42.601277Z",
     "iopub.status.busy": "2023-08-30T17:10:42.600773Z",
     "iopub.status.idle": "2023-08-30T17:10:43.352929Z",
     "shell.execute_reply": "2023-08-30T17:10:43.351595Z"
    },
    "papermill": {
     "duration": 1.274345,
     "end_time": "2023-08-30T17:10:43.355990",
     "exception": false,
     "start_time": "2023-08-30T17:10:42.081645",
     "status": "completed"
    },
    "tags": []
   },
   "outputs": [
    {
     "data": {
      "image/png": "[encoded data removed]",
      "text/plain": [
       "<Figure size 1000x500 with 2 Axes>"
      ]
     },
     "metadata": {},
     "output_type": "display_data"
    }
   ],
   "source": [
    "# Plot Loss\n",
    "\n",
    "plt.figure(figsize=(10, 5))\n",
    "plt.subplot(1, 2, 1)\n",
    "plt.plot(range(1, 11), train_nn2_loss, label='Train Loss')\n",
    "plt.plot(range(1, 11), val_nn2_loss, label='Validation Loss')\n",
    "plt.xlabel('Epoch')\n",
    "plt.ylabel('Loss')\n",
    "plt.title('Training and Validation Loss - undersampling')\n",
    "plt.legend()\n",
    "\n",
    "# Plot accuracy \n",
    "plt.subplot(1, 2, 2)\n",
    "plt.plot(range(1, 11), train_nn2_acc, label='Train Accuracy')\n",
    "plt.plot(range(1, 11), val_nn2_acc, label='Validation Accuracy')\n",
    "plt.xlabel('Epoch')\n",
    "plt.ylabel('Accuracy')\n",
    "plt.title('Training and Validation Accuracy - undersampling')\n",
    "plt.legend()\n",
    "\n",
    "plt.tight_layout()\n",
    "plt.show()"
   ]
  },
  {
   "cell_type": "markdown",
   "id": "fe1d2fc0",
   "metadata": {
    "papermill": {
     "duration": 0.615574,
     "end_time": "2023-08-30T17:10:44.507159",
     "exception": false,
     "start_time": "2023-08-30T17:10:43.891585",
     "status": "completed"
    },
    "tags": []
   },
   "source": [
    "> **Second Conclusion** \n",
    "\n",
    "From the plot above: \n",
    "\n",
    "1. Both the training and validation loss are decreasing over the epochs, it indicates that the model is learning effectively. \n",
    "\n",
    "2. Both training and validation accuracy are increasing, it's a positive sign that the model is learning effectively"
   ]
  },
  {
   "cell_type": "markdown",
   "id": "e9cb82c3",
   "metadata": {
    "papermill": {
     "duration": 0.51387,
     "end_time": "2023-08-30T17:10:45.548789",
     "exception": false,
     "start_time": "2023-08-30T17:10:45.034919",
     "status": "completed"
    },
    "tags": []
   },
   "source": [
    "> **NN Undersampling Confusion Matrix** \n"
   ]
  },
  {
   "cell_type": "code",
   "execution_count": 29,
   "id": "f44d29da",
   "metadata": {
    "execution": {
     "iopub.execute_input": "2023-08-30T17:10:46.571064Z",
     "iopub.status.busy": "2023-08-30T17:10:46.570596Z",
     "iopub.status.idle": "2023-08-30T17:10:46.792146Z",
     "shell.execute_reply": "2023-08-30T17:10:46.790692Z"
    },
    "papermill": {
     "duration": 0.736127,
     "end_time": "2023-08-30T17:10:46.795068",
     "exception": false,
     "start_time": "2023-08-30T17:10:46.058941",
     "status": "completed"
    },
    "tags": []
   },
   "outputs": [
    {
     "data": {
      "image/png": "[encoded data removed]",
      "text/plain": [
       "<Figure size 800x600 with 1 Axes>"
      ]
     },
     "metadata": {},
     "output_type": "display_data"
    }
   ],
   "source": [
    "from sklearn.metrics import confusion_matrix\n",
    "import seaborn as sns\n",
    "\n",
    "# Calculate confusion matrix\n",
    "conf_matrix_nn2 = confusion_matrix(y_test, binary_undersampling_predictions)\n",
    "\n",
    "# Create a heatmap for the confusion matrix\n",
    "plt.figure(figsize=(8, 6))\n",
    "sns.heatmap(conf_matrix_nn2, annot=True, fmt='d', cmap='Blues', cbar=False)\n",
    "plt.xlabel('Predicted')\n",
    "plt.ylabel('Actual')\n",
    "plt.title('Confusion Matrix')\n",
    "plt.xticks([0.5, 1.5], ['Non-Fraud', 'Fraud'])\n",
    "plt.yticks([0.5, 1.5], ['Non-Fraud', 'Fraud'])\n",
    "plt.show()"
   ]
  },
  {
   "cell_type": "markdown",
   "id": "97978f5c",
   "metadata": {
    "papermill": {
     "duration": 0.610806,
     "end_time": "2023-08-30T17:10:47.926623",
     "exception": false,
     "start_time": "2023-08-30T17:10:47.315817",
     "status": "completed"
    },
    "tags": []
   },
   "source": [
    "# Random Forests\n",
    "\n",
    "In this part we will test another ML model and compare it with the NN models \n",
    "\n",
    "Steps below are followed to build and apply Random Forests model:\n",
    "** Note (data splitting )\n",
    "\n",
    "1. Splitting the data without scaling it because random forest algorithm depends on decision trees and relative comparisons between features. \n",
    "2. Feature Selection: using scikit-learn's SelectFromModel\n",
    "3. Building and Training the Model\n",
    "4. Evaluate the model\n",
    "\n",
    "\n",
    "***Note*** no need for oversampling or undersampling in Random Forest model, this model is able to handle unbalanced data.\n"
   ]
  },
  {
   "cell_type": "code",
   "execution_count": 30,
   "id": "5998d7d4",
   "metadata": {
    "execution": {
     "iopub.execute_input": "2023-08-30T17:10:48.961074Z",
     "iopub.status.busy": "2023-08-30T17:10:48.959775Z",
     "iopub.status.idle": "2023-08-30T17:15:49.722857Z",
     "shell.execute_reply": "2023-08-30T17:15:49.721156Z"
    },
    "papermill": {
     "duration": 301.82935,
     "end_time": "2023-08-30T17:15:50.269865",
     "exception": false,
     "start_time": "2023-08-30T17:10:48.440515",
     "status": "completed"
    },
    "tags": []
   },
   "outputs": [
    {
     "data": {
      "text/html": [
       "<style>#sk-container-id-1 {color: black;background-color: white;}#sk-container-id-1 pre{padding: 0;}#sk-container-id-1 div.sk-toggleable {background-color: white;}#sk-container-id-1 label.sk-toggleable__label {cursor: pointer;display: block;width: 100%;margin-bottom: 0;padding: 0.3em;box-sizing: border-box;text-align: center;}#sk-container-id-1 label.sk-toggleable__label-arrow:before {content: \"▸\";float: left;margin-right: 0.25em;color: #696969;}#sk-container-id-1 label.sk-toggleable__label-arrow:hover:before {color: black;}#sk-container-id-1 div.sk-estimator:hover label.sk-toggleable__label-arrow:before {color: black;}#sk-container-id-1 div.sk-toggleable__content {max-height: 0;max-width: 0;overflow: hidden;text-align: left;background-color: #f0f8ff;}#sk-container-id-1 div.sk-toggleable__content pre {margin: 0.2em;color: black;border-radius: 0.25em;background-color: #f0f8ff;}#sk-container-id-1 input.sk-toggleable__control:checked~div.sk-toggleable__content {max-height: 200px;max-width: 100%;overflow: auto;}#sk-container-id-1 input.sk-toggleable__control:checked~label.sk-toggleable__label-arrow:before {content: \"▾\";}#sk-container-id-1 div.sk-estimator input.sk-toggleable__control:checked~label.sk-toggleable__label {background-color: #d4ebff;}#sk-container-id-1 div.sk-label input.sk-toggleable__control:checked~label.sk-toggleable__label {background-color: #d4ebff;}#sk-container-id-1 input.sk-hidden--visually {border: 0;clip: rect(1px 1px 1px 1px);clip: rect(1px, 1px, 1px, 1px);height: 1px;margin: -1px;overflow: hidden;padding: 0;position: absolute;width: 1px;}#sk-container-id-1 div.sk-estimator {font-family: monospace;background-color: #f0f8ff;border: 1px dotted black;border-radius: 0.25em;box-sizing: border-box;margin-bottom: 0.5em;}#sk-container-id-1 div.sk-estimator:hover {background-color: #d4ebff;}#sk-container-id-1 div.sk-parallel-item::after {content: \"\";width: 100%;border-bottom: 1px solid gray;flex-grow: 1;}#sk-container-id-1 div.sk-label:hover label.sk-toggleable__label {background-color: #d4ebff;}#sk-container-id-1 div.sk-serial::before {content: \"\";position: absolute;border-left: 1px solid gray;box-sizing: border-box;top: 0;bottom: 0;left: 50%;z-index: 0;}#sk-container-id-1 div.sk-serial {display: flex;flex-direction: column;align-items: center;background-color: white;padding-right: 0.2em;padding-left: 0.2em;position: relative;}#sk-container-id-1 div.sk-item {position: relative;z-index: 1;}#sk-container-id-1 div.sk-parallel {display: flex;align-items: stretch;justify-content: center;background-color: white;position: relative;}#sk-container-id-1 div.sk-item::before, #sk-container-id-1 div.sk-parallel-item::before {content: \"\";position: absolute;border-left: 1px solid gray;box-sizing: border-box;top: 0;bottom: 0;left: 50%;z-index: -1;}#sk-container-id-1 div.sk-parallel-item {display: flex;flex-direction: column;z-index: 1;position: relative;background-color: white;}#sk-container-id-1 div.sk-parallel-item:first-child::after {align-self: flex-end;width: 50%;}#sk-container-id-1 div.sk-parallel-item:last-child::after {align-self: flex-start;width: 50%;}#sk-container-id-1 div.sk-parallel-item:only-child::after {width: 0;}#sk-container-id-1 div.sk-dashed-wrapped {border: 1px dashed gray;margin: 0 0.4em 0.5em 0.4em;box-sizing: border-box;padding-bottom: 0.4em;background-color: white;}#sk-container-id-1 div.sk-label label {font-family: monospace;font-weight: bold;display: inline-block;line-height: 1.2em;}#sk-container-id-1 div.sk-label-container {text-align: center;}#sk-container-id-1 div.sk-container {/* jupyter's `normalize.less` sets `[hidden] { display: none; }` but bootstrap.min.css set `[hidden] { display: none !important; }` so we also need the `!important` here to be able to override the default hidden behavior on the sphinx rendered scikit-learn.org. See: https://github.com/scikit-learn/scikit-learn/issues/21755 */display: inline-block !important;position: relative;}#sk-container-id-1 div.sk-text-repr-fallback {display: none;}</style><div id=\"sk-container-id-1\" class=\"sk-top-container\"><div class=\"sk-text-repr-fallback\"><pre>SelectFromModel(estimator=RandomForestClassifier(random_state=42))</pre><b>In a Jupyter environment, please rerun this cell to show the HTML representation or trust the notebook. <br />On GitHub, the HTML representation is unable to render, please try loading this page with nbviewer.org.</b></div><div class=\"sk-container\" hidden><div class=\"sk-item sk-dashed-wrapped\"><div class=\"sk-label-container\"><div class=\"sk-label sk-toggleable\"><input class=\"sk-toggleable__control sk-hidden--visually\" id=\"sk-estimator-id-1\" type=\"checkbox\" ><label for=\"sk-estimator-id-1\" class=\"sk-toggleable__label sk-toggleable__label-arrow\">SelectFromModel</label><div class=\"sk-toggleable__content\"><pre>SelectFromModel(estimator=RandomForestClassifier(random_state=42))</pre></div></div></div><div class=\"sk-parallel\"><div class=\"sk-parallel-item\"><div class=\"sk-item\"><div class=\"sk-label-container\"><div class=\"sk-label sk-toggleable\"><input class=\"sk-toggleable__control sk-hidden--visually\" id=\"sk-estimator-id-2\" type=\"checkbox\" ><label for=\"sk-estimator-id-2\" class=\"sk-toggleable__label sk-toggleable__label-arrow\">estimator: RandomForestClassifier</label><div class=\"sk-toggleable__content\"><pre>RandomForestClassifier(random_state=42)</pre></div></div></div><div class=\"sk-serial\"><div class=\"sk-item\"><div class=\"sk-estimator sk-toggleable\"><input class=\"sk-toggleable__control sk-hidden--visually\" id=\"sk-estimator-id-3\" type=\"checkbox\" ><label for=\"sk-estimator-id-3\" class=\"sk-toggleable__label sk-toggleable__label-arrow\">RandomForestClassifier</label><div class=\"sk-toggleable__content\"><pre>RandomForestClassifier(random_state=42)</pre></div></div></div></div></div></div></div></div></div></div>"
      ],
      "text/plain": [
       "SelectFromModel(estimator=RandomForestClassifier(random_state=42))"
      ]
     },
     "execution_count": 30,
     "metadata": {},
     "output_type": "execute_result"
    }
   ],
   "source": [
    "from sklearn.feature_selection import SelectFromModel\n",
    "from sklearn.ensemble import RandomForestClassifier\n",
    "\n",
    "rf_selector = RandomForestClassifier(n_estimators=100, random_state=42)\n",
    "selector = SelectFromModel(rf_selector)\n",
    "\n",
    "selector.fit(x_train, y_train)"
   ]
  },
  {
   "cell_type": "code",
   "execution_count": 31,
   "id": "8e7ff2fe",
   "metadata": {
    "execution": {
     "iopub.execute_input": "2023-08-30T17:15:51.423291Z",
     "iopub.status.busy": "2023-08-30T17:15:51.422847Z",
     "iopub.status.idle": "2023-08-30T17:15:51.510709Z",
     "shell.execute_reply": "2023-08-30T17:15:51.509360Z"
    },
    "papermill": {
     "duration": 0.608395,
     "end_time": "2023-08-30T17:15:51.513446",
     "exception": false,
     "start_time": "2023-08-30T17:15:50.905051",
     "status": "completed"
    },
    "tags": []
   },
   "outputs": [
    {
     "name": "stdout",
     "output_type": "stream",
     "text": [
      "Index(['V9', 'V10', 'V11', 'V12', 'V14', 'V16', 'V17'], dtype='object')\n"
     ]
    }
   ],
   "source": [
    "selected_mask = selector.get_support()\n",
    "# Get the column names of selected features\n",
    "selected_columns = x_train.columns[selected_mask]\n",
    "print(selected_columns)\n",
    "\n",
    "# Transform training and testing data to selected features\n",
    "x_train_rf_selected = selector.transform(x_train)\n",
    "x_test_rf_selected = selector.transform(x_test)\n",
    "\n"
   ]
  },
  {
   "cell_type": "code",
   "execution_count": 32,
   "id": "8b67a432",
   "metadata": {
    "execution": {
     "iopub.execute_input": "2023-08-30T17:15:52.549132Z",
     "iopub.status.busy": "2023-08-30T17:15:52.548098Z",
     "iopub.status.idle": "2023-08-30T17:17:12.343678Z",
     "shell.execute_reply": "2023-08-30T17:17:12.342213Z"
    },
    "papermill": {
     "duration": 80.82852,
     "end_time": "2023-08-30T17:17:12.856205",
     "exception": false,
     "start_time": "2023-08-30T17:15:52.027685",
     "status": "completed"
    },
    "tags": []
   },
   "outputs": [
    {
     "data": {
      "text/html": [
       "<style>#sk-container-id-2 {color: black;background-color: white;}#sk-container-id-2 pre{padding: 0;}#sk-container-id-2 div.sk-toggleable {background-color: white;}#sk-container-id-2 label.sk-toggleable__label {cursor: pointer;display: block;width: 100%;margin-bottom: 0;padding: 0.3em;box-sizing: border-box;text-align: center;}#sk-container-id-2 label.sk-toggleable__label-arrow:before {content: \"▸\";float: left;margin-right: 0.25em;color: #696969;}#sk-container-id-2 label.sk-toggleable__label-arrow:hover:before {color: black;}#sk-container-id-2 div.sk-estimator:hover label.sk-toggleable__label-arrow:before {color: black;}#sk-container-id-2 div.sk-toggleable__content {max-height: 0;max-width: 0;overflow: hidden;text-align: left;background-color: #f0f8ff;}#sk-container-id-2 div.sk-toggleable__content pre {margin: 0.2em;color: black;border-radius: 0.25em;background-color: #f0f8ff;}#sk-container-id-2 input.sk-toggleable__control:checked~div.sk-toggleable__content {max-height: 200px;max-width: 100%;overflow: auto;}#sk-container-id-2 input.sk-toggleable__control:checked~label.sk-toggleable__label-arrow:before {content: \"▾\";}#sk-container-id-2 div.sk-estimator input.sk-toggleable__control:checked~label.sk-toggleable__label {background-color: #d4ebff;}#sk-container-id-2 div.sk-label input.sk-toggleable__control:checked~label.sk-toggleable__label {background-color: #d4ebff;}#sk-container-id-2 input.sk-hidden--visually {border: 0;clip: rect(1px 1px 1px 1px);clip: rect(1px, 1px, 1px, 1px);height: 1px;margin: -1px;overflow: hidden;padding: 0;position: absolute;width: 1px;}#sk-container-id-2 div.sk-estimator {font-family: monospace;background-color: #f0f8ff;border: 1px dotted black;border-radius: 0.25em;box-sizing: border-box;margin-bottom: 0.5em;}#sk-container-id-2 div.sk-estimator:hover {background-color: #d4ebff;}#sk-container-id-2 div.sk-parallel-item::after {content: \"\";width: 100%;border-bottom: 1px solid gray;flex-grow: 1;}#sk-container-id-2 div.sk-label:hover label.sk-toggleable__label {background-color: #d4ebff;}#sk-container-id-2 div.sk-serial::before {content: \"\";position: absolute;border-left: 1px solid gray;box-sizing: border-box;top: 0;bottom: 0;left: 50%;z-index: 0;}#sk-container-id-2 div.sk-serial {display: flex;flex-direction: column;align-items: center;background-color: white;padding-right: 0.2em;padding-left: 0.2em;position: relative;}#sk-container-id-2 div.sk-item {position: relative;z-index: 1;}#sk-container-id-2 div.sk-parallel {display: flex;align-items: stretch;justify-content: center;background-color: white;position: relative;}#sk-container-id-2 div.sk-item::before, #sk-container-id-2 div.sk-parallel-item::before {content: \"\";position: absolute;border-left: 1px solid gray;box-sizing: border-box;top: 0;bottom: 0;left: 50%;z-index: -1;}#sk-container-id-2 div.sk-parallel-item {display: flex;flex-direction: column;z-index: 1;position: relative;background-color: white;}#sk-container-id-2 div.sk-parallel-item:first-child::after {align-self: flex-end;width: 50%;}#sk-container-id-2 div.sk-parallel-item:last-child::after {align-self: flex-start;width: 50%;}#sk-container-id-2 div.sk-parallel-item:only-child::after {width: 0;}#sk-container-id-2 div.sk-dashed-wrapped {border: 1px dashed gray;margin: 0 0.4em 0.5em 0.4em;box-sizing: border-box;padding-bottom: 0.4em;background-color: white;}#sk-container-id-2 div.sk-label label {font-family: monospace;font-weight: bold;display: inline-block;line-height: 1.2em;}#sk-container-id-2 div.sk-label-container {text-align: center;}#sk-container-id-2 div.sk-container {/* jupyter's `normalize.less` sets `[hidden] { display: none; }` but bootstrap.min.css set `[hidden] { display: none !important; }` so we also need the `!important` here to be able to override the default hidden behavior on the sphinx rendered scikit-learn.org. See: https://github.com/scikit-learn/scikit-learn/issues/21755 */display: inline-block !important;position: relative;}#sk-container-id-2 div.sk-text-repr-fallback {display: none;}</style><div id=\"sk-container-id-2\" class=\"sk-top-container\"><div class=\"sk-text-repr-fallback\"><pre>RandomForestClassifier(max_depth=10, random_state=42)</pre><b>In a Jupyter environment, please rerun this cell to show the HTML representation or trust the notebook. <br />On GitHub, the HTML representation is unable to render, please try loading this page with nbviewer.org.</b></div><div class=\"sk-container\" hidden><div class=\"sk-item\"><div class=\"sk-estimator sk-toggleable\"><input class=\"sk-toggleable__control sk-hidden--visually\" id=\"sk-estimator-id-4\" type=\"checkbox\" checked><label for=\"sk-estimator-id-4\" class=\"sk-toggleable__label sk-toggleable__label-arrow\">RandomForestClassifier</label><div class=\"sk-toggleable__content\"><pre>RandomForestClassifier(max_depth=10, random_state=42)</pre></div></div></div></div></div>"
      ],
      "text/plain": [
       "RandomForestClassifier(max_depth=10, random_state=42)"
      ]
     },
     "execution_count": 32,
     "metadata": {},
     "output_type": "execute_result"
    }
   ],
   "source": [
    "from sklearn.metrics import classification_report\n",
    "\n",
    "# Build the Random Forest model\n",
    "random_forest = RandomForestClassifier(n_estimators=100, max_depth=10, random_state=42)\n",
    "\n",
    "# Train the model \n",
    "random_forest.fit(x_train_rf_selected, y_train)\n"
   ]
  },
  {
   "cell_type": "code",
   "execution_count": 33,
   "id": "7e9b9db8",
   "metadata": {
    "execution": {
     "iopub.execute_input": "2023-08-30T17:17:13.985794Z",
     "iopub.status.busy": "2023-08-30T17:17:13.985305Z",
     "iopub.status.idle": "2023-08-30T17:17:14.514567Z",
     "shell.execute_reply": "2023-08-30T17:17:14.513123Z"
    },
    "papermill": {
     "duration": 1.05213,
     "end_time": "2023-08-30T17:17:14.517425",
     "exception": false,
     "start_time": "2023-08-30T17:17:13.465295",
     "status": "completed"
    },
    "tags": []
   },
   "outputs": [
    {
     "name": "stdout",
     "output_type": "stream",
     "text": [
      "              precision    recall  f1-score   support\n",
      "\n",
      "           0       1.00      1.00      1.00     56864\n",
      "           1       0.96      0.77      0.85        98\n",
      "\n",
      "    accuracy                           1.00     56962\n",
      "   macro avg       0.98      0.88      0.93     56962\n",
      "weighted avg       1.00      1.00      1.00     56962\n",
      "\n"
     ]
    }
   ],
   "source": [
    "# Evaluate the RF model \n",
    "y_pred = random_forest.predict(x_test_rf_selected)\n",
    "print(classification_report(y_test, y_pred))"
   ]
  },
  {
   "cell_type": "code",
   "execution_count": 34,
   "id": "169bcc5e",
   "metadata": {
    "execution": {
     "iopub.execute_input": "2023-08-30T17:17:15.539534Z",
     "iopub.status.busy": "2023-08-30T17:17:15.539095Z",
     "iopub.status.idle": "2023-08-30T17:17:15.550942Z",
     "shell.execute_reply": "2023-08-30T17:17:15.549505Z"
    },
    "papermill": {
     "duration": 0.521055,
     "end_time": "2023-08-30T17:17:15.553554",
     "exception": false,
     "start_time": "2023-08-30T17:17:15.032499",
     "status": "completed"
    },
    "tags": []
   },
   "outputs": [
    {
     "name": "stdout",
     "output_type": "stream",
     "text": [
      "Accuracy: 1.00\n"
     ]
    }
   ],
   "source": [
    "from sklearn.metrics import accuracy_score\n",
    "\n",
    "# Calculate accuracy\n",
    "accuracy = accuracy_score(y_test, y_pred)\n",
    "print(f\"Accuracy: {accuracy:.2f}\")"
   ]
  },
  {
   "cell_type": "code",
   "execution_count": 35,
   "id": "9ae4a363",
   "metadata": {
    "execution": {
     "iopub.execute_input": "2023-08-30T17:17:16.682636Z",
     "iopub.status.busy": "2023-08-30T17:17:16.681791Z",
     "iopub.status.idle": "2023-08-30T17:17:16.898911Z",
     "shell.execute_reply": "2023-08-30T17:17:16.897760Z"
    },
    "papermill": {
     "duration": 0.834155,
     "end_time": "2023-08-30T17:17:16.902098",
     "exception": false,
     "start_time": "2023-08-30T17:17:16.067943",
     "status": "completed"
    },
    "tags": []
   },
   "outputs": [
    {
     "data": {
      "image/png": "[encoded data removed]",
      "text/plain": [
       "<Figure size 800x600 with 1 Axes>"
      ]
     },
     "metadata": {},
     "output_type": "display_data"
    }
   ],
   "source": [
    "from sklearn.metrics import confusion_matrix\n",
    "import seaborn as sns\n",
    "\n",
    "# Calculate confusion matrix\n",
    "conf_matrix = confusion_matrix(y_test, y_pred)\n",
    "\n",
    "# Create a heatmap for the confusion matrix\n",
    "plt.figure(figsize=(8, 6))\n",
    "sns.heatmap(conf_matrix, annot=True, fmt='d', cmap='Blues', cbar=False)\n",
    "plt.xlabel('Predicted')\n",
    "plt.ylabel('Actual')\n",
    "plt.title('Confusion Matrix')\n",
    "plt.xticks([0.5, 1.5], ['Non-Fraud', 'Fraud'])\n",
    "plt.yticks([0.5, 1.5], ['Non-Fraud', 'Fraud'])\n",
    "plt.show()"
   ]
  }
 ],
 "kernelspec": {
  "display_name": "Python 3",
  "language": "python",
  "name": "python3"
 },
 "language_info": {
  "codemirror_mode": {
   "name": "ipython",
   "version": 3
  },
  "file_extension": ".py",
  "mimetype": "text/x-python",
  "name": "python",
  "nbconvert_exporter": "python",
  "pygments_lexer": "ipython3",
  "version": "3.6.4"
 },
 "metadata": {
  "kernelspec": {
   "display_name": "Python 3",
   "language": "python",
   "name": "python3"
  },
  "language_info": {
   "codemirror_mode": {
    "name": "ipython",
    "version": 3
   },
   "file_extension": ".py",
   "mimetype": "text/x-python",
   "name": "python",
   "nbconvert_exporter": "python",
   "pygments_lexer": "ipython3",
   "version": "3.10.12"
  },
  "papermill": {
   "default_parameters": {},
   "duration": 798.915565,
   "end_time": "2023-08-30T17:17:20.011039",
   "environment_variables": {},
   "exception": null,
   "input_path": "__notebook__.ipynb",
   "output_path": "__notebook__.ipynb",
   "parameters": {},
   "start_time": "2023-08-30T17:04:01.095474",
   "version": "2.4.0"
  }
 },
 "nbformat": 4,
 "nbformat_minor": 5
}
